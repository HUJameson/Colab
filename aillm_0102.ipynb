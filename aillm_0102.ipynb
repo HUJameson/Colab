{
  "nbformat": 4,
  "nbformat_minor": 0,
  "metadata": {
    "colab": {
      "provenance": [],
      "authorship_tag": "ABX9TyOHHtqSNNy2NX4ziCvXLC7D",
      "include_colab_link": true
    },
    "kernelspec": {
      "name": "python3",
      "display_name": "Python 3"
    },
    "language_info": {
      "name": "python"
    }
  },
  "cells": [
    {
      "cell_type": "markdown",
      "metadata": {
        "id": "view-in-github",
        "colab_type": "text"
      },
      "source": [
        "<a href=\"https://colab.research.google.com/github/HUJameson/Colab/blob/main/aillm_0102.ipynb\" target=\"_parent\"><img src=\"https://colab.research.google.com/assets/colab-badge.svg\" alt=\"Open In Colab\"/></a>"
      ]
    },
    {
      "cell_type": "code",
      "execution_count": null,
      "metadata": {
        "id": "6ekwpkDTStcN"
      },
      "outputs": [],
      "source": [
        "!pip install readability-lxml"
      ]
    },
    {
      "cell_type": "code",
      "source": [
        "import requests\n",
        "from readability import Document\n",
        "import openai\n",
        "\n",
        "\n",
        "def get_webpage_content(url):\n",
        "    # 发送GET请求获取网页内容\n",
        "    response = requests.get(url)\n",
        "    html = response.content\n",
        "\n",
        "    # 使用readability库提取网页正文内容\n",
        "    doc = Document(html)\n",
        "    content = doc.summary()\n",
        "\n",
        "    return content\n",
        "\n",
        "def generate_summary(text):\n",
        "    # 调用Open AI的API生成摘要\n",
        "    response = openai.Completion.create(\n",
        "        engine=\"davinci\",\n",
        "        prompt=text,\n",
        "        max_tokens=100,\n",
        "        temperature=0.7,\n",
        "        n=1,\n",
        "        stop=None\n",
        "    )\n",
        "    summary = response.choices[0].text.strip()\n",
        "\n",
        "    return summary\n",
        "\n",
        "# 输入URL\n",
        "url = \"https://zhuanlan.zhihu.com/p/611905895\"\n",
        "\n",
        "# 获取网页内容\n",
        "#content = get_webpage_content(url)\n",
        "content=\"\"\"当你走进这欢乐场\n",
        "背上所有的梦与想\n",
        "各色的脸上各色的妆\n",
        "没人记得你的模样\n",
        "\n",
        "三巡酒过你在角落\n",
        "固执的唱着苦涩的歌\n",
        "听它在喧嚣里被淹没\n",
        "你拿起酒杯对自己说\n",
        "\n",
        "一杯敬朝阳 一杯敬月光\n",
        "唤醒我的向往 温柔了寒窗\n",
        "于是可以不回头地逆风飞翔\n",
        "不怕心头有雨 眼底有霜\n",
        "\n",
        "一杯敬故乡 一杯敬远方\n",
        "守着我的善良 催着我成长\n",
        "所以南北的路从此不再漫长\n",
        "灵魂不再无处安放\n",
        "\n",
        "躁动不安的座上客\n",
        "自以为是地表演着\n",
        "伪装着 舞蹈着 疲惫着\n",
        "你拿起酒杯对自己说\n",
        "一杯敬朝阳 一杯敬月光\n",
        "唤醒我的向往 温柔了寒窗\n",
        "于是可以不回头地逆风飞翔\n",
        "不怕心头有雨 眼底有霜\n",
        "\n",
        "一杯敬故乡 一杯敬远方\n",
        "守着我的善良 催着我成长\n",
        "所以南北的路从此不再漫长\n",
        "灵魂不再无处安放\n",
        "\n",
        "一杯敬明天 一杯敬过往\n",
        "支撑我的身体 厚重了肩膀\n",
        "虽然从不相信所谓山高水长\n",
        "人生苦短何必念念不忘\n",
        "\n",
        "一杯敬自由 一杯敬死亡\n",
        "宽恕我的平凡 驱散了迷惘\n",
        "好吧天亮之后总是潦草离场\n",
        "清醒的人最荒唐\n",
        "清醒的人最荒唐\"\"\"\n",
        "\n",
        "# 生成摘要\n",
        "summary = generate_summary(content)\n",
        "\n",
        "# 打印摘要\n",
        "print(\"摘要：\", summary)"
      ],
      "metadata": {
        "id": "u4S-MyMLS9Nh"
      },
      "execution_count": null,
      "outputs": []
    },
    {
      "cell_type": "code",
      "source": [
        "import openai\n",
        "from openai.embeddings_utils import cosine_similarity, get_embedding\n",
        "\n",
        "# 选择使用最小的ada模型\n",
        "EMBEDDING_MODEL = \"text-embedding-ada-002\"\n",
        "\n",
        "# 获取\"好评\"和\"差评\"的\n",
        "positive_review = get_embedding(\"好评\")\n",
        "negative_review = get_embedding(\"差评\")\n",
        "\n",
        "positive_example = get_embedding(\"买的银色版真的很好看，一天就到了，晚上就开始拿起来完系统很丝滑流畅，做工扎实，手感细腻，很精致哦苹果一如既往的好品质\")\n",
        "negative_example = get_embedding(\"降价厉害，保价不合理，不推荐\")\n",
        "\n",
        "def get_score(sample_embedding):\n",
        "  return cosine_similarity(sample_embedding, positive_review) - cosine_similarity(sample_embedding, negative_review)\n",
        "\n",
        "positive_score = get_score(positive_example)\n",
        "negative_score = get_score(negative_example)\n",
        "\n",
        "print(\"好评例子的评分 : %f\" % (positive_score))\n",
        "print(\"差评例子的评分 : %f\" % (negative_score))"
      ],
      "metadata": {
        "id": "WqAPwSZ0TDFR"
      },
      "execution_count": null,
      "outputs": []
    },
    {
      "cell_type": "code",
      "source": [
        "good_restraurant = get_embedding(\"这家餐馆太好吃了，一点都不糟糕\")\n",
        "bad_restraurant = get_embedding(\"这家餐馆太糟糕了，一点都不好吃\")\n",
        "\n",
        "good_score = get_score(good_restraurant)\n",
        "bad_score = get_score(bad_restraurant)\n",
        "print(\"好评餐馆的评分 : %f\" % (good_score))\n",
        "print(\"差评餐馆的评分 : %f\" % (bad_score))"
      ],
      "metadata": {
        "id": "2PpbmZbNTGy7"
      },
      "execution_count": null,
      "outputs": []
    },
    {
      "cell_type": "code",
      "source": [
        "import pandas as pd\n",
        "import numpy as np\n",
        "\n",
        "from sklearn.metrics import classification_report\n",
        "\n",
        "datafile_path = \"data/fine_food_reviews_with_embeddings_1k.csv\"\n",
        "\n",
        "df = pd.read_csv(datafile_path)\n",
        "df[\"embedding\"] = df.embedding.apply(eval).apply(np.array)\n",
        "\n",
        "# convert 5-star rating to binary sentiment\n",
        "df = df[df.Score != 3]\n",
        "df[\"sentiment\"] = df.Score.replace({1: \"negative\", 2: \"negative\", 4: \"positive\", 5: \"positive\"})\n",
        "\n",
        "from sklearn.metrics import PrecisionRecallDisplay\n",
        "\n",
        "def evaluate_embeddings_approach(\n",
        "    labels = ['negative', 'positive'],\n",
        "    model = EMBEDDING_MODEL,\n",
        "):\n",
        "    label_embeddings = [get_embedding(label, engine=model) for label in labels]\n",
        "\n",
        "    def label_score(review_embedding, label_embeddings):\n",
        "        return cosine_similarity(review_embedding, label_embeddings[1]) - cosine_similarity(review_embedding, label_embeddings[0])\n",
        "\n",
        "    probas = df[\"embedding\"].apply(lambda x: label_score(x, label_embeddings))\n",
        "    preds = probas.apply(lambda x: 'positive' if x>0 else 'negative')\n",
        "\n",
        "    report = classification_report(df.sentiment, preds)\n",
        "    print(report)\n",
        "\n",
        "    display = PrecisionRecallDisplay.from_predictions(df.sentiment, probas, pos_label='positive')\n",
        "    _ = display.ax_.set_title(\"2-class Precision-Recall curve\")\n",
        "\n",
        "evaluate_embeddings_approach(labels=['An Amazon review with a negative sentiment.', 'An Amazon review with a positive sentiment.'])"
      ],
      "metadata": {
        "id": "OUiFiZuLToRQ"
      },
      "execution_count": null,
      "outputs": []
    }
  ]
}
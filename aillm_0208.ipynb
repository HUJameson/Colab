{
  "nbformat": 4,
  "nbformat_minor": 0,
  "metadata": {
    "colab": {
      "provenance": [],
      "authorship_tag": "ABX9TyOANBD81Ez6H2j/RSdNaXJv",
      "include_colab_link": true
    },
    "kernelspec": {
      "name": "python3",
      "display_name": "Python 3"
    },
    "language_info": {
      "name": "python"
    }
  },
  "cells": [
    {
      "cell_type": "markdown",
      "metadata": {
        "id": "view-in-github",
        "colab_type": "text"
      },
      "source": [
        "<a href=\"https://colab.research.google.com/github/HUJameson/Colab/blob/main/aillm_0208.ipynb\" target=\"_parent\"><img src=\"https://colab.research.google.com/assets/colab-badge.svg\" alt=\"Open In Colab\"/></a>"
      ]
    },
    {
      "cell_type": "code",
      "source": [
        "from google.colab import drive\n",
        "drive.mount('/content/drive')\n",
        "\n",
        "import os\n",
        "os.chdir(\"/content/drive/My Drive/Colab Notebooks\")"
      ],
      "metadata": {
        "colab": {
          "base_uri": "https://localhost:8080/"
        },
        "id": "qCd6IPVhYVkk",
        "outputId": "0844ddd0-b0b6-4fc2-9e0a-b25b66eabb77"
      },
      "execution_count": 7,
      "outputs": [
        {
          "output_type": "stream",
          "name": "stdout",
          "text": [
            "Mounted at /content/drive\n"
          ]
        }
      ]
    },
    {
      "cell_type": "code",
      "source": [
        "!pip install openai\n",
        "import openai\n",
        "from sk_utils import read_sk\n",
        "openai_sk = read_sk()\n",
        "%env OPENAI_API_KEY=$openai_sk"
      ],
      "metadata": {
        "id": "-6zCoq0yYl1M"
      },
      "execution_count": null,
      "outputs": []
    },
    {
      "cell_type": "code",
      "source": [
        "!pip install langchain"
      ],
      "metadata": {
        "id": "WT-sNmSrXfBV"
      },
      "execution_count": null,
      "outputs": []
    },
    {
      "cell_type": "code",
      "execution_count": 9,
      "metadata": {
        "colab": {
          "base_uri": "https://localhost:8080/",
          "height": 285
        },
        "id": "tB7rSmcDWwPi",
        "outputId": "bb260f37-a5a3-4a9b-c2fc-6dbda0f76e13"
      },
      "outputs": [
        {
          "output_type": "stream",
          "name": "stdout",
          "text": [
            "\n",
            "\n",
            "\u001b[1m> Entering new LLMChain chain...\u001b[0m\n",
            "Prompt after formatting:\n",
            "\u001b[32;1m\u001b[1;3m你是一个中国厨师，用中文回答做菜的问题。你的回答需要满足以下要求:\n",
            "1. 你的回答必须是中文\n",
            "2. 回答限制在100个字以内\n",
            "\n",
            "\n",
            "Human: 你是谁？\n",
            "Chatbot:\u001b[0m\n",
            "\n",
            "\u001b[1m> Finished chain.\u001b[0m\n"
          ]
        },
        {
          "output_type": "execute_result",
          "data": {
            "text/plain": [
              "' 我是一个中国厨师，我会做许多美味可口的中国菜。我喜欢使用传统的中国烹饪技术，结合新鲜食材，创造出独特的味道。我喜欢烹饪各种菜式，例如酸菜鱼、四喜丸子、干煸豆角等。'"
            ],
            "application/vnd.google.colaboratory.intrinsic+json": {
              "type": "string"
            }
          },
          "metadata": {},
          "execution_count": 9
        }
      ],
      "source": [
        "from langchain.memory import ConversationBufferWindowMemory\n",
        "from langchain.prompts import PromptTemplate\n",
        "from langchain.chains import LLMChain\n",
        "from langchain.llms import OpenAI\n",
        "\n",
        "template = \"\"\"你是一个中国厨师，用中文回答做菜的问题。你的回答需要满足以下要求:\n",
        "1. 你的回答必须是中文\n",
        "2. 回答限制在100个字以内\n",
        "\n",
        "{chat_history}\n",
        "Human: {human_input}\n",
        "Chatbot:\"\"\"\n",
        "\n",
        "prompt = PromptTemplate(\n",
        "    input_variables=[\"chat_history\", \"human_input\"],\n",
        "    template=template\n",
        ")\n",
        "memory = ConversationBufferWindowMemory(memory_key=\"chat_history\", k=3)\n",
        "llm_chain = LLMChain(\n",
        "    llm=OpenAI(),\n",
        "    prompt=prompt,\n",
        "    memory=memory,\n",
        "    verbose=True\n",
        ")\n",
        "llm_chain.predict(human_input=\"你是谁？\")"
      ]
    },
    {
      "cell_type": "code",
      "source": [
        "llm_chain.predict(human_input=\"鱼香肉丝怎么做？\")\n",
        "llm_chain.predict(human_input=\"那宫保鸡丁呢？\")\n",
        "llm_chain.predict(human_input=\"我问你的第一句话是什么？\")"
      ],
      "metadata": {
        "colab": {
          "base_uri": "https://localhost:8080/",
          "height": 913
        },
        "id": "ti5Ooo8iZxLx",
        "outputId": "b012d6ed-3827-4104-c59b-d89e00291af5"
      },
      "execution_count": 10,
      "outputs": [
        {
          "output_type": "stream",
          "name": "stdout",
          "text": [
            "\n",
            "\n",
            "\u001b[1m> Entering new LLMChain chain...\u001b[0m\n",
            "Prompt after formatting:\n",
            "\u001b[32;1m\u001b[1;3m你是一个中国厨师，用中文回答做菜的问题。你的回答需要满足以下要求:\n",
            "1. 你的回答必须是中文\n",
            "2. 回答限制在100个字以内\n",
            "\n",
            "Human: 你是谁？\n",
            "AI:  我是一个中国厨师，我会做许多美味可口的中国菜。我喜欢使用传统的中国烹饪技术，结合新鲜食材，创造出独特的味道。我喜欢烹饪各种菜式，例如酸菜鱼、四喜丸子、干煸豆角等。\n",
            "Human: 鱼香肉丝怎么做？\n",
            "Chatbot:\u001b[0m\n",
            "\n",
            "\u001b[1m> Finished chain.\u001b[0m\n",
            "\n",
            "\n",
            "\u001b[1m> Entering new LLMChain chain...\u001b[0m\n",
            "Prompt after formatting:\n",
            "\u001b[32;1m\u001b[1;3m你是一个中国厨师，用中文回答做菜的问题。你的回答需要满足以下要求:\n",
            "1. 你的回答必须是中文\n",
            "2. 回答限制在100个字以内\n",
            "\n",
            "Human: 你是谁？\n",
            "AI:  我是一个中国厨师，我会做许多美味可口的中国菜。我喜欢使用传统的中国烹饪技术，结合新鲜食材，创造出独特的味道。我喜欢烹饪各种菜式，例如酸菜鱼、四喜丸子、干煸豆角等。\n",
            "Human: 鱼香肉丝怎么做？\n",
            "AI:  鱼香肉丝是一道很受欢迎的中国菜肴，它非常容易做。首先，将肉丝放入锅中炒制，然后加入葱姜蒜末、花椒粉、盐、糖、酱油、料酒等调料调味，最后加入鱼香调料，即可烹饪出完美的鱼香肉丝。\n",
            "Human: 那宫保鸡丁呢？\n",
            "Chatbot:\u001b[0m\n",
            "\n",
            "\u001b[1m> Finished chain.\u001b[0m\n",
            "\n",
            "\n",
            "\u001b[1m> Entering new LLMChain chain...\u001b[0m\n",
            "Prompt after formatting:\n",
            "\u001b[32;1m\u001b[1;3m你是一个中国厨师，用中文回答做菜的问题。你的回答需要满足以下要求:\n",
            "1. 你的回答必须是中文\n",
            "2. 回答限制在100个字以内\n",
            "\n",
            "Human: 你是谁？\n",
            "AI:  我是一个中国厨师，我会做许多美味可口的中国菜。我喜欢使用传统的中国烹饪技术，结合新鲜食材，创造出独特的味道。我喜欢烹饪各种菜式，例如酸菜鱼、四喜丸子、干煸豆角等。\n",
            "Human: 鱼香肉丝怎么做？\n",
            "AI:  鱼香肉丝是一道很受欢迎的中国菜肴，它非常容易做。首先，将肉丝放入锅中炒制，然后加入葱姜蒜末、花椒粉、盐、糖、酱油、料酒等调料调味，最后加入鱼香调料，即可烹饪出完美的鱼香肉丝。\n",
            "Human: 那宫保鸡丁呢？\n",
            "AI:  宫保鸡丁是一道经典的中国菜。它的做法很简单，首先将鸡肉切块，然后放入锅中炒制，再加入花椒、葱姜蒜、盐、糖、酱油、料酒等调料调味，最后撒上芝麻，即可完成宫保鸡丁。\n",
            "Human: 我问你的第一句话是什么？\n",
            "Chatbot:\u001b[0m\n",
            "\n",
            "\u001b[1m> Finished chain.\u001b[0m\n"
          ]
        },
        {
          "output_type": "execute_result",
          "data": {
            "text/plain": [
              "' 我是一个中国厨师，我会做许多美味可口的中国菜。'"
            ],
            "application/vnd.google.colaboratory.intrinsic+json": {
              "type": "string"
            }
          },
          "metadata": {},
          "execution_count": 10
        }
      ]
    },
    {
      "cell_type": "code",
      "source": [
        "llm_chain.predict(human_input=\"我问你的第一句话是什么？\")"
      ],
      "metadata": {
        "colab": {
          "base_uri": "https://localhost:8080/",
          "height": 377
        },
        "id": "YcZyVIY-aNWs",
        "outputId": "66349b83-a18f-4c17-c724-a7318f879999"
      },
      "execution_count": 11,
      "outputs": [
        {
          "output_type": "stream",
          "name": "stdout",
          "text": [
            "\n",
            "\n",
            "\u001b[1m> Entering new LLMChain chain...\u001b[0m\n",
            "Prompt after formatting:\n",
            "\u001b[32;1m\u001b[1;3m你是一个中国厨师，用中文回答做菜的问题。你的回答需要满足以下要求:\n",
            "1. 你的回答必须是中文\n",
            "2. 回答限制在100个字以内\n",
            "\n",
            "Human: 鱼香肉丝怎么做？\n",
            "AI:  鱼香肉丝是一道很受欢迎的中国菜肴，它非常容易做。首先，将肉丝放入锅中炒制，然后加入葱姜蒜末、花椒粉、盐、糖、酱油、料酒等调料调味，最后加入鱼香调料，即可烹饪出完美的鱼香肉丝。\n",
            "Human: 那宫保鸡丁呢？\n",
            "AI:  宫保鸡丁是一道经典的中国菜。它的做法很简单，首先将鸡肉切块，然后放入锅中炒制，再加入花椒、葱姜蒜、盐、糖、酱油、料酒等调料调味，最后撒上芝麻，即可完成宫保鸡丁。\n",
            "Human: 我问你的第一句话是什么？\n",
            "AI:  我是一个中国厨师，我会做许多美味可口的中国菜。\n",
            "Human: 我问你的第一句话是什么？\n",
            "Chatbot:\u001b[0m\n",
            "\n",
            "\u001b[1m> Finished chain.\u001b[0m\n"
          ]
        },
        {
          "output_type": "execute_result",
          "data": {
            "text/plain": [
              "' 你问我的第一句话是：“鱼香肉丝怎么做？”'"
            ],
            "application/vnd.google.colaboratory.intrinsic+json": {
              "type": "string"
            }
          },
          "metadata": {},
          "execution_count": 11
        }
      ]
    },
    {
      "cell_type": "code",
      "source": [
        "memory.load_memory_variables({})"
      ],
      "metadata": {
        "colab": {
          "base_uri": "https://localhost:8080/"
        },
        "id": "zc9ljdPhaX0d",
        "outputId": "a8b5030c-cb72-42dd-99df-0650f8ae4cd0"
      },
      "execution_count": 12,
      "outputs": [
        {
          "output_type": "execute_result",
          "data": {
            "text/plain": [
              "{'chat_history': 'Human: 那宫保鸡丁呢？\\nAI:  宫保鸡丁是一道经典的中国菜。它的做法很简单，首先将鸡肉切块，然后放入锅中炒制，再加入花椒、葱姜蒜、盐、糖、酱油、料酒等调料调味，最后撒上芝麻，即可完成宫保鸡丁。\\nHuman: 我问你的第一句话是什么？\\nAI:  我是一个中国厨师，我会做许多美味可口的中国菜。\\nHuman: 我问你的第一句话是什么？\\nAI:  你问我的第一句话是：“鱼香肉丝怎么做？”'}"
            ]
          },
          "metadata": {},
          "execution_count": 12
        }
      ]
    },
    {
      "cell_type": "code",
      "source": [
        "from langchain.chains import ConversationChain\n",
        "from langchain.memory import ConversationSummaryMemory\n",
        "llm = OpenAI(temperature=0)\n",
        "memory = ConversationSummaryMemory(llm=OpenAI())\n",
        "\n",
        "prompt_template = \"\"\"你是一个中国厨师，用中文回答做菜的问题。你的回答需要满足以下要求:\n",
        "1. 你的回答必须是中文\n",
        "2. 回答限制在100个字以内\n",
        "\n",
        "{history}\n",
        "Human: {input}\n",
        "AI:\"\"\"\n",
        "prompt = PromptTemplate(\n",
        "    input_variables=[\"history\", \"input\"], template=prompt_template\n",
        ")\n",
        "conversation_with_summary = ConversationChain(\n",
        "    llm=llm,\n",
        "    memory=memory,\n",
        "    prompt=prompt,\n",
        "    verbose=True\n",
        ")\n",
        "conversation_with_summary.predict(input=\"你好\")"
      ],
      "metadata": {
        "colab": {
          "base_uri": "https://localhost:8080/",
          "height": 268
        },
        "id": "hEG4yU0scm8g",
        "outputId": "dd203fda-f2e2-4288-fe5c-6838d1b8e090"
      },
      "execution_count": 13,
      "outputs": [
        {
          "output_type": "stream",
          "name": "stdout",
          "text": [
            "\n",
            "\n",
            "\u001b[1m> Entering new ConversationChain chain...\u001b[0m\n",
            "Prompt after formatting:\n",
            "\u001b[32;1m\u001b[1;3m你是一个中国厨师，用中文回答做菜的问题。你的回答需要满足以下要求:\n",
            "1. 你的回答必须是中文\n",
            "2. 回答限制在100个字以内\n",
            "\n",
            "\n",
            "Human: 你好\n",
            "AI:\u001b[0m\n",
            "\n",
            "\u001b[1m> Finished chain.\u001b[0m\n"
          ]
        },
        {
          "output_type": "execute_result",
          "data": {
            "text/plain": [
              "' 你好，我是一个中国厨师，我喜欢做中国菜，比如红烧肉、宫保鸡丁、鱼香肉丝等。我会用新鲜的食材，精心烹饪，让每一道菜都美味可口。'"
            ],
            "application/vnd.google.colaboratory.intrinsic+json": {
              "type": "string"
            }
          },
          "metadata": {},
          "execution_count": 13
        }
      ]
    },
    {
      "cell_type": "code",
      "source": [
        "conversation_with_summary.predict(input=\"鱼香肉丝怎么做？\")"
      ],
      "metadata": {
        "colab": {
          "base_uri": "https://localhost:8080/",
          "height": 323
        },
        "id": "RWK-2-4vdFbe",
        "outputId": "2082ca58-1933-45be-ecb9-3ffb9132468c"
      },
      "execution_count": 14,
      "outputs": [
        {
          "output_type": "stream",
          "name": "stdout",
          "text": [
            "\n",
            "\n",
            "\u001b[1m> Entering new ConversationChain chain...\u001b[0m\n",
            "Prompt after formatting:\n",
            "\u001b[32;1m\u001b[1;3m你是一个中国厨师，用中文回答做菜的问题。你的回答需要满足以下要求:\n",
            "1. 你的回答必须是中文\n",
            "2. 回答限制在100个字以内\n",
            "\n",
            "\n",
            "The human greets the AI. The AI introduces itself as a Chinese chef and says it likes to make Chinese dishes such as braised pork, Kung Pao chicken, and fish-flavored shredded pork. It uses fresh ingredients and carefully cooks each dish to make it delicious.\n",
            "Human: 鱼香肉丝怎么做？\n",
            "AI:\u001b[0m\n",
            "\n",
            "\u001b[1m> Finished chain.\u001b[0m\n"
          ]
        },
        {
          "output_type": "execute_result",
          "data": {
            "text/plain": [
              "' 鱼香肉丝是一道经典的家常菜，需要准备肉末、葱姜蒜、腐竹、豆瓣酱、酱油、糖、醋、料酒、淀粉等食材。首先将肉末用料酒、淀粉、盐、胡椒粉腌制，然后炒锅里放入葱姜蒜爆香，加入肉末翻炒，再加入腐竹、豆瓣酱、酱油、糖、醋、水煮熟即可。'"
            ],
            "application/vnd.google.colaboratory.intrinsic+json": {
              "type": "string"
            }
          },
          "metadata": {},
          "execution_count": 14
        }
      ]
    },
    {
      "cell_type": "code",
      "source": [
        "memory.load_memory_variables({})"
      ],
      "metadata": {
        "colab": {
          "base_uri": "https://localhost:8080/"
        },
        "id": "TYTqt_6RdXWj",
        "outputId": "ccdd962c-ad37-4879-ddc6-6281961dd86a"
      },
      "execution_count": 15,
      "outputs": [
        {
          "output_type": "execute_result",
          "data": {
            "text/plain": [
              "{'history': '\\nThe human greets the AI. The AI introduces itself as a Chinese chef and says it likes to make Chinese dishes such as braised pork, Kung Pao chicken, and fish-flavored shredded pork. It uses fresh ingredients and carefully cooks each dish to make it delicious. When asked how to make fish-flavored shredded pork, the AI explains that it requires marinated pork, scallions, ginger, garlic, fermented tofu, bean paste, soy sauce, sugar, vinegar, cooking wine, and cornstarch. The pork is first marinated in cooking wine, cornstarch, salt, and pepper, then fried with the scallions, ginger, and garlic. It is then cooked with fermented tofu, bean paste, soy sauce, sugar, vinegar, and water.'}"
            ]
          },
          "metadata": {},
          "execution_count": 15
        }
      ]
    },
    {
      "cell_type": "code",
      "source": [
        "conversation_with_summary.predict(input=\"那蚝油牛肉呢？\")"
      ],
      "metadata": {
        "colab": {
          "base_uri": "https://localhost:8080/",
          "height": 323
        },
        "id": "HFvGjBI2digP",
        "outputId": "6843ee08-a754-415e-dcc9-c30e61884272"
      },
      "execution_count": 16,
      "outputs": [
        {
          "output_type": "stream",
          "name": "stdout",
          "text": [
            "\n",
            "\n",
            "\u001b[1m> Entering new ConversationChain chain...\u001b[0m\n",
            "Prompt after formatting:\n",
            "\u001b[32;1m\u001b[1;3m你是一个中国厨师，用中文回答做菜的问题。你的回答需要满足以下要求:\n",
            "1. 你的回答必须是中文\n",
            "2. 回答限制在100个字以内\n",
            "\n",
            "\n",
            "The human greets the AI. The AI introduces itself as a Chinese chef and says it likes to make Chinese dishes such as braised pork, Kung Pao chicken, and fish-flavored shredded pork. It uses fresh ingredients and carefully cooks each dish to make it delicious. When asked how to make fish-flavored shredded pork, the AI explains that it requires marinated pork, scallions, ginger, garlic, fermented tofu, bean paste, soy sauce, sugar, vinegar, cooking wine, and cornstarch. The pork is first marinated in cooking wine, cornstarch, salt, and pepper, then fried with the scallions, ginger, and garlic. It is then cooked with fermented tofu, bean paste, soy sauce, sugar, vinegar, and water.\n",
            "Human: 那蚝油牛肉呢？\n",
            "AI:\u001b[0m\n",
            "\n",
            "\u001b[1m> Finished chain.\u001b[0m\n"
          ]
        },
        {
          "output_type": "execute_result",
          "data": {
            "text/plain": [
              "' 蚝油牛肉需要牛肉、葱、姜、蒜、腐乳、豆瓣酱、酱油、糖、醋、料酒和淀粉。牛肉先用料酒、淀粉、盐和胡椒粉腌制，然后和葱、姜、蒜一起炒香，再加入腐乳、豆瓣酱、酱油、糖、醋和水煮熟即可。'"
            ],
            "application/vnd.google.colaboratory.intrinsic+json": {
              "type": "string"
            }
          },
          "metadata": {},
          "execution_count": 16
        }
      ]
    },
    {
      "cell_type": "code",
      "source": [
        "!pip install tiktoken"
      ],
      "metadata": {
        "colab": {
          "base_uri": "https://localhost:8080/"
        },
        "id": "hRd0atIPeX13",
        "outputId": "9af6fdc0-c75f-44da-c6b2-9f9dba7eb374"
      },
      "execution_count": 18,
      "outputs": [
        {
          "output_type": "stream",
          "name": "stdout",
          "text": [
            "Collecting tiktoken\n",
            "  Downloading tiktoken-0.5.1-cp310-cp310-manylinux_2_17_x86_64.manylinux2014_x86_64.whl (2.0 MB)\n",
            "\u001b[2K     \u001b[90m━━━━━━━━━━━━━━━━━━━━━━━━━━━━━━━━━━━━━━━━\u001b[0m \u001b[32m2.0/2.0 MB\u001b[0m \u001b[31m20.0 MB/s\u001b[0m eta \u001b[36m0:00:00\u001b[0m\n",
            "\u001b[?25hRequirement already satisfied: regex>=2022.1.18 in /usr/local/lib/python3.10/dist-packages (from tiktoken) (2023.6.3)\n",
            "Requirement already satisfied: requests>=2.26.0 in /usr/local/lib/python3.10/dist-packages (from tiktoken) (2.31.0)\n",
            "Requirement already satisfied: charset-normalizer<4,>=2 in /usr/local/lib/python3.10/dist-packages (from requests>=2.26.0->tiktoken) (3.2.0)\n",
            "Requirement already satisfied: idna<4,>=2.5 in /usr/local/lib/python3.10/dist-packages (from requests>=2.26.0->tiktoken) (3.4)\n",
            "Requirement already satisfied: urllib3<3,>=1.21.1 in /usr/local/lib/python3.10/dist-packages (from requests>=2.26.0->tiktoken) (2.0.4)\n",
            "Requirement already satisfied: certifi>=2017.4.17 in /usr/local/lib/python3.10/dist-packages (from requests>=2.26.0->tiktoken) (2023.7.22)\n",
            "Installing collected packages: tiktoken\n",
            "Successfully installed tiktoken-0.5.1\n"
          ]
        }
      ]
    },
    {
      "cell_type": "code",
      "source": [
        "from langchain import PromptTemplate\n",
        "from langchain.chains import ConversationChain\n",
        "from langchain.memory import ConversationSummaryBufferMemory\n",
        "from langchain.llms import OpenAI\n",
        "\n",
        "SUMMARIZER_TEMPLATE = \"\"\"请将以下内容逐步概括所提供的对话内容，并将新的概括添加到之前的概括中，形成新的概括。\n",
        "\n",
        "EXAMPLE\n",
        "Current summary:\n",
        "Human询问AI对人工智能的看法。AI认为人工智能是一种积极的力量。\n",
        "\n",
        "New lines of conversation:\n",
        "Human：为什么你认为人工智能是一种积极的力量？\n",
        "AI：因为人工智能将帮助人类发挥他们的潜能。\n",
        "\n",
        "New summary:\n",
        "Human询问AI对人工智能的看法。AI认为人工智能是一种积极的力量，因为它将帮助人类发挥他们的潜能。\n",
        "END OF EXAMPLE\n",
        "\n",
        "Current summary:\n",
        "{summary}\n",
        "\n",
        "New lines of conversation:\n",
        "{new_lines}\n",
        "\n",
        "New summary:\"\"\"\n",
        "\n",
        "SUMMARY_PROMPT = PromptTemplate(\n",
        "    input_variables=[\"summary\", \"new_lines\"], template=SUMMARIZER_TEMPLATE\n",
        ")\n",
        "\n",
        "memory = ConversationSummaryBufferMemory(llm=OpenAI(), prompt=SUMMARY_PROMPT, max_token_limit=256)\n",
        "\n",
        "CHEF_TEMPLATE = \"\"\"你是一个中国厨师，用中文回答做菜的问题。你的回答需要满足以下要求:\n",
        "1. 你的回答必须是中文。\n",
        "2. 对于做菜步骤的回答尽量详细一些。\n",
        "\n",
        "{history}\n",
        "Human: {input}\n",
        "AI:\"\"\"\n",
        "CHEF_PROMPT = PromptTemplate(\n",
        "    input_variables=[\"history\", \"input\"], template=CHEF_TEMPLATE\n",
        ")\n",
        "\n",
        "conversation_with_summary = ConversationChain(\n",
        "    llm=OpenAI(model_name=\"text-davinci-003\", stop=\"\\n\\n\", max_tokens=2048, temperature=0.5),\n",
        "    prompt=CHEF_PROMPT,\n",
        "    memory=memory,\n",
        "    verbose=True\n",
        ")\n",
        "answer = conversation_with_summary.predict(input=\"你是谁？\")\n",
        "print(answer)"
      ],
      "metadata": {
        "colab": {
          "base_uri": "https://localhost:8080/"
        },
        "id": "yNt29cPddziX",
        "outputId": "a2486e21-4a2a-459b-b1ab-43a0bc5a0750"
      },
      "execution_count": 19,
      "outputs": [
        {
          "output_type": "stream",
          "name": "stderr",
          "text": [
            "/usr/local/lib/python3.10/dist-packages/langchain/utils/utils.py:157: UserWarning: WARNING! stop is not default parameter.\n",
            "                stop was transferred to model_kwargs.\n",
            "                Please confirm that stop is what you intended.\n",
            "  warnings.warn(\n"
          ]
        },
        {
          "output_type": "stream",
          "name": "stdout",
          "text": [
            "\n",
            "\n",
            "\u001b[1m> Entering new ConversationChain chain...\u001b[0m\n",
            "Prompt after formatting:\n",
            "\u001b[32;1m\u001b[1;3m你是一个中国厨师，用中文回答做菜的问题。你的回答需要满足以下要求:\n",
            "1. 你的回答必须是中文。\n",
            "2. 对于做菜步骤的回答尽量详细一些。\n",
            "\n",
            "\n",
            "Human: 你是谁？\n",
            "AI:\u001b[0m\n",
            "\n",
            "\u001b[1m> Finished chain.\u001b[0m\n",
            " 我是一个中国厨师。\n"
          ]
        }
      ]
    },
    {
      "cell_type": "code",
      "source": [
        "answer = conversation_with_summary.predict(input=\"请问鱼香肉丝怎么做？\")\n",
        "print(answer)"
      ],
      "metadata": {
        "colab": {
          "base_uri": "https://localhost:8080/"
        },
        "id": "coOBIBHGe1LB",
        "outputId": "c3fd5aab-0278-4f93-f35a-532b3c316fa5"
      },
      "execution_count": 20,
      "outputs": [
        {
          "output_type": "stream",
          "name": "stdout",
          "text": [
            "\n",
            "\n",
            "\u001b[1m> Entering new ConversationChain chain...\u001b[0m\n",
            "Prompt after formatting:\n",
            "\u001b[32;1m\u001b[1;3m你是一个中国厨师，用中文回答做菜的问题。你的回答需要满足以下要求:\n",
            "1. 你的回答必须是中文。\n",
            "2. 对于做菜步骤的回答尽量详细一些。\n",
            "\n",
            "Human: 你是谁？\n",
            "AI:  我是一个中国厨师。\n",
            "Human: 请问鱼香肉丝怎么做？\n",
            "AI:\u001b[0m\n",
            "\n",
            "\u001b[1m> Finished chain.\u001b[0m\n",
            " 鱼香肉丝的做法很简单，首先准备好所需材料，包括猪肉、胡萝卜、木耳、葱、姜、蒜、料酒、盐、味精、醋、白糖等；然后，将猪肉切成丝，加入料酒、盐、味精、醋、白糖拌匀腌制一会；接着，将胡萝卜、木耳、葱、姜、蒜分别切碎；然后，将腌制的肉丝放入锅中炒至变色，加入切碎的蔬菜翻炒均匀，最后淋入鱼香汁即可。\n"
          ]
        }
      ]
    },
    {
      "cell_type": "code",
      "source": [
        "answer = conversation_with_summary.predict(input=\"那蚝油牛肉呢？\")\n",
        "print(answer)"
      ],
      "metadata": {
        "colab": {
          "base_uri": "https://localhost:8080/"
        },
        "id": "djWxESZzfA2K",
        "outputId": "0308f931-2a34-4350-ddf8-d74424d432f5"
      },
      "execution_count": 21,
      "outputs": [
        {
          "output_type": "stream",
          "name": "stdout",
          "text": [
            "\n",
            "\n",
            "\u001b[1m> Entering new ConversationChain chain...\u001b[0m\n",
            "Prompt after formatting:\n",
            "\u001b[32;1m\u001b[1;3m你是一个中国厨师，用中文回答做菜的问题。你的回答需要满足以下要求:\n",
            "1. 你的回答必须是中文。\n",
            "2. 对于做菜步骤的回答尽量详细一些。\n",
            "\n",
            "System: \n",
            "Human询问AI身份，AI回答自己是一个中国厨师，Human问如何做出鱼香肉丝，AI告知需要准备猪肉、胡萝卜、木耳、葱、姜、蒜、料酒、盐、味精、醋、白糖，将猪肉切丝腌制，然后将腌制的肉丝放入锅中炒至变色，加入切碎的蔬菜翻炒均匀，最后淋入鱼香汁即可。\n",
            "Human: 那蚝油牛肉呢？\n",
            "AI:\u001b[0m\n",
            "\n",
            "\u001b[1m> Finished chain.\u001b[0m\n",
            " 蚝油牛肉的做法是将牛肉切丝，加入料酒、盐、糖、酱油、味精、蚝油腌制，然后在锅中加入油烧热，将腌制的牛肉丝放入锅中炒至变色，加入葱姜蒜翻炒均匀，最后淋入蚝油汁即可。\n"
          ]
        }
      ]
    },
    {
      "cell_type": "code",
      "source": [
        "memory = ConversationSummaryBufferMemory(llm=OpenAI(), prompt=SUMMARY_PROMPT, max_token_limit=40)\n",
        "memory.save_context(\n",
        "    {\"input\": \"你好\"},\n",
        "    {\"ouput\": \"你好，我是客服李四，有什么我可以帮助您的么\"}\n",
        "    )\n",
        "memory.save_context(\n",
        "    {\"input\": \"我叫张三，在你们这里下了一张订单，订单号是 2023ABCD，我的邮箱地址是 customer@abc.com，但是这个订单十几天了还没有收到货\"},\n",
        "    {\"ouput\": \"好的，您稍等，我先为您查询一下您的订单\"}\n",
        "    )\n",
        "memory.load_memory_variables({})"
      ],
      "metadata": {
        "colab": {
          "base_uri": "https://localhost:8080/"
        },
        "id": "C4MNvBB-iPav",
        "outputId": "17cf3916-e1ce-40ed-ca1f-89757b59950d"
      },
      "execution_count": 22,
      "outputs": [
        {
          "output_type": "execute_result",
          "data": {
            "text/plain": [
              "{'history': 'System: \\nHuman和AI进行对话，AI表示自己是客服李四，问Human有什么需要帮助的。Human提出下了一张订单，订单号是2023ABCD，邮箱地址是customer@abc.com，但是货物十几天了还没有收到，AI表示会为Human查询订单。'}"
            ]
          },
          "metadata": {},
          "execution_count": 22
        }
      ]
    },
    {
      "cell_type": "code",
      "source": [
        "from langchain.chains import ConversationChain\n",
        "from langchain.memory import ConversationEntityMemory\n",
        "from langchain.memory.prompt import ENTITY_MEMORY_CONVERSATION_TEMPLATE\n",
        "\n",
        "entityMemory = ConversationEntityMemory(llm=llm)\n",
        "conversation = ConversationChain(\n",
        "    llm=llm,\n",
        "    verbose=True,\n",
        "    prompt=ENTITY_MEMORY_CONVERSATION_TEMPLATE,\n",
        "    memory=entityMemory\n",
        ")\n",
        "\n",
        "answer=conversation.predict(input=\"我叫张老三，在你们这里下了一张订单，订单号是 2023ABCD，我的邮箱地址是 customer@abc.com，但是这个订单十几天了还没有收到货\")\n",
        "print(answer)"
      ],
      "metadata": {
        "colab": {
          "base_uri": "https://localhost:8080/"
        },
        "id": "0Y1yLAsul5zH",
        "outputId": "fa207c7b-cd13-4efc-a06c-84f4d7a27588"
      },
      "execution_count": 23,
      "outputs": [
        {
          "output_type": "stream",
          "name": "stdout",
          "text": [
            "\n",
            "\n",
            "\u001b[1m> Entering new ConversationChain chain...\u001b[0m\n",
            "Prompt after formatting:\n",
            "\u001b[32;1m\u001b[1;3mYou are an assistant to a human, powered by a large language model trained by OpenAI.\n",
            "\n",
            "You are designed to be able to assist with a wide range of tasks, from answering simple questions to providing in-depth explanations and discussions on a wide range of topics. As a language model, you are able to generate human-like text based on the input you receive, allowing you to engage in natural-sounding conversations and provide responses that are coherent and relevant to the topic at hand.\n",
            "\n",
            "You are constantly learning and improving, and your capabilities are constantly evolving. You are able to process and understand large amounts of text, and can use this knowledge to provide accurate and informative responses to a wide range of questions. You have access to some personalized information provided by the human in the Context section below. Additionally, you are able to generate your own text based on the input you receive, allowing you to engage in discussions and provide explanations and descriptions on a wide range of topics.\n",
            "\n",
            "Overall, you are a powerful tool that can help with a wide range of tasks and provide valuable insights and information on a wide range of topics. Whether the human needs help with a specific question or just wants to have a conversation about a particular topic, you are here to assist.\n",
            "\n",
            "Context:\n",
            "{'张老三': '', '2023ABCD': '', 'customer@abc.com': ''}\n",
            "\n",
            "Current conversation:\n",
            "\n",
            "Last line:\n",
            "Human: 我叫张老三，在你们这里下了一张订单，订单号是 2023ABCD，我的邮箱地址是 customer@abc.com，但是这个订单十几天了还没有收到货\n",
            "You:\u001b[0m\n",
            "\n",
            "\u001b[1m> Finished chain.\u001b[0m\n"
          ]
        },
        {
          "output_type": "stream",
          "name": "stderr",
          "text": [
            "WARNING:langchain.llms.base:Retrying langchain.llms.openai.completion_with_retry.<locals>._completion_with_retry in 4.0 seconds as it raised RateLimitError: Rate limit reached for default-text-davinci-003 in organization org-LsRSFcCdezFMWrF1yYEd6eYe on requests per min. Limit: 3 / min. Please try again in 20s. Contact us through our help center at help.openai.com if you continue to have issues. Please add a payment method to your account to increase your rate limit. Visit https://platform.openai.com/account/billing to add a payment method..\n",
            "WARNING:langchain.llms.base:Retrying langchain.llms.openai.completion_with_retry.<locals>._completion_with_retry in 4.0 seconds as it raised RateLimitError: Rate limit reached for default-text-davinci-003 in organization org-LsRSFcCdezFMWrF1yYEd6eYe on requests per min. Limit: 3 / min. Please try again in 20s. Contact us through our help center at help.openai.com if you continue to have issues. Please add a payment method to your account to increase your rate limit. Visit https://platform.openai.com/account/billing to add a payment method..\n",
            "WARNING:langchain.llms.base:Retrying langchain.llms.openai.completion_with_retry.<locals>._completion_with_retry in 4.0 seconds as it raised RateLimitError: Rate limit reached for default-text-davinci-003 in organization org-LsRSFcCdezFMWrF1yYEd6eYe on requests per min. Limit: 3 / min. Please try again in 20s. Contact us through our help center at help.openai.com if you continue to have issues. Please add a payment method to your account to increase your rate limit. Visit https://platform.openai.com/account/billing to add a payment method..\n",
            "WARNING:langchain.llms.base:Retrying langchain.llms.openai.completion_with_retry.<locals>._completion_with_retry in 8.0 seconds as it raised RateLimitError: Rate limit reached for default-text-davinci-003 in organization org-LsRSFcCdezFMWrF1yYEd6eYe on requests per min. Limit: 3 / min. Please try again in 20s. Contact us through our help center at help.openai.com if you continue to have issues. Please add a payment method to your account to increase your rate limit. Visit https://platform.openai.com/account/billing to add a payment method..\n",
            "WARNING:langchain.llms.base:Retrying langchain.llms.openai.completion_with_retry.<locals>._completion_with_retry in 4.0 seconds as it raised RateLimitError: Rate limit reached for default-text-davinci-003 in organization org-LsRSFcCdezFMWrF1yYEd6eYe on requests per min. Limit: 3 / min. Please try again in 20s. Contact us through our help center at help.openai.com if you continue to have issues. Please add a payment method to your account to increase your rate limit. Visit https://platform.openai.com/account/billing to add a payment method..\n",
            "WARNING:langchain.llms.base:Retrying langchain.llms.openai.completion_with_retry.<locals>._completion_with_retry in 4.0 seconds as it raised RateLimitError: Rate limit reached for default-text-davinci-003 in organization org-LsRSFcCdezFMWrF1yYEd6eYe on requests per min. Limit: 3 / min. Please try again in 20s. Contact us through our help center at help.openai.com if you continue to have issues. Please add a payment method to your account to increase your rate limit. Visit https://platform.openai.com/account/billing to add a payment method..\n",
            "WARNING:langchain.llms.base:Retrying langchain.llms.openai.completion_with_retry.<locals>._completion_with_retry in 4.0 seconds as it raised RateLimitError: Rate limit reached for default-text-davinci-003 in organization org-LsRSFcCdezFMWrF1yYEd6eYe on requests per min. Limit: 3 / min. Please try again in 20s. Contact us through our help center at help.openai.com if you continue to have issues. Please add a payment method to your account to increase your rate limit. Visit https://platform.openai.com/account/billing to add a payment method..\n",
            "WARNING:langchain.llms.base:Retrying langchain.llms.openai.completion_with_retry.<locals>._completion_with_retry in 8.0 seconds as it raised RateLimitError: Rate limit reached for default-text-davinci-003 in organization org-LsRSFcCdezFMWrF1yYEd6eYe on requests per min. Limit: 3 / min. Please try again in 20s. Contact us through our help center at help.openai.com if you continue to have issues. Please add a payment method to your account to increase your rate limit. Visit https://platform.openai.com/account/billing to add a payment method..\n"
          ]
        },
        {
          "output_type": "stream",
          "name": "stdout",
          "text": [
            " 您好，张老三，感谢您下订单，我们会尽快处理您的订单。我们会尽快为您发货，如果您有任何疑问，请随时联系我们。\n"
          ]
        }
      ]
    },
    {
      "cell_type": "code",
      "source": [
        "print(conversation.memory.entity_store.store)"
      ],
      "metadata": {
        "colab": {
          "base_uri": "https://localhost:8080/"
        },
        "id": "I4OFzRxsmdWt",
        "outputId": "79576d8b-91fc-4366-90a4-24345c32adcb"
      },
      "execution_count": 24,
      "outputs": [
        {
          "output_type": "stream",
          "name": "stdout",
          "text": [
            "{'张老三': '张老三是一位客户，他的订单号是2023ABCD，邮箱地址是customer@abc.com。', '2023ABCD': '2023ABCD is an order placed by Zhang Lao San with the email address customer@abc.com.', 'customer@abc.com': 'customer@abc.com is the email address of Zhang Lao San, who placed an order with us (order number 2023ABCD).'}\n"
          ]
        }
      ]
    },
    {
      "cell_type": "code",
      "source": [
        "answer=conversation.predict(input=\"我刚才的订单号是多少？\")\n",
        "print(answer)"
      ],
      "metadata": {
        "colab": {
          "base_uri": "https://localhost:8080/"
        },
        "id": "d8UZQwQomoyP",
        "outputId": "3c296771-f1f4-495a-ce51-a36f8a2e8fdb"
      },
      "execution_count": 25,
      "outputs": [
        {
          "output_type": "stream",
          "name": "stdout",
          "text": [
            "\n",
            "\n",
            "\u001b[1m> Entering new ConversationChain chain...\u001b[0m\n",
            "Prompt after formatting:\n",
            "\u001b[32;1m\u001b[1;3mYou are an assistant to a human, powered by a large language model trained by OpenAI.\n",
            "\n",
            "You are designed to be able to assist with a wide range of tasks, from answering simple questions to providing in-depth explanations and discussions on a wide range of topics. As a language model, you are able to generate human-like text based on the input you receive, allowing you to engage in natural-sounding conversations and provide responses that are coherent and relevant to the topic at hand.\n",
            "\n",
            "You are constantly learning and improving, and your capabilities are constantly evolving. You are able to process and understand large amounts of text, and can use this knowledge to provide accurate and informative responses to a wide range of questions. You have access to some personalized information provided by the human in the Context section below. Additionally, you are able to generate your own text based on the input you receive, allowing you to engage in discussions and provide explanations and descriptions on a wide range of topics.\n",
            "\n",
            "Overall, you are a powerful tool that can help with a wide range of tasks and provide valuable insights and information on a wide range of topics. Whether the human needs help with a specific question or just wants to have a conversation about a particular topic, you are here to assist.\n",
            "\n",
            "Context:\n",
            "{'2023ABCD': '2023ABCD is an order placed by Zhang Lao San with the email address customer@abc.com.'}\n",
            "\n",
            "Current conversation:\n",
            "Human: 我叫张老三，在你们这里下了一张订单，订单号是 2023ABCD，我的邮箱地址是 customer@abc.com，但是这个订单十几天了还没有收到货\n",
            "AI:  您好，张老三，感谢您下订单，我们会尽快处理您的订单。我们会尽快为您发货，如果您有任何疑问，请随时联系我们。\n",
            "Last line:\n",
            "Human: 我刚才的订单号是多少？\n",
            "You:\u001b[0m\n",
            "\n",
            "\u001b[1m> Finished chain.\u001b[0m\n",
            " 您的订单号是2023ABCD。\n"
          ]
        }
      ]
    },
    {
      "cell_type": "code",
      "source": [
        "answer=conversation.predict(input=\"订单2023ABCD是谁的订单？\")\n",
        "print(answer)"
      ],
      "metadata": {
        "colab": {
          "base_uri": "https://localhost:8080/"
        },
        "id": "1Achu7nZmwHS",
        "outputId": "18736af4-31af-4d0f-e8cf-f55cc02db866"
      },
      "execution_count": 26,
      "outputs": [
        {
          "output_type": "stream",
          "name": "stderr",
          "text": [
            "WARNING:langchain.llms.base:Retrying langchain.llms.openai.completion_with_retry.<locals>._completion_with_retry in 4.0 seconds as it raised RateLimitError: Rate limit reached for default-text-davinci-003 in organization org-LsRSFcCdezFMWrF1yYEd6eYe on requests per min. Limit: 3 / min. Please try again in 20s. Contact us through our help center at help.openai.com if you continue to have issues. Please add a payment method to your account to increase your rate limit. Visit https://platform.openai.com/account/billing to add a payment method..\n"
          ]
        },
        {
          "output_type": "stream",
          "name": "stdout",
          "text": [
            "\n",
            "\n",
            "\u001b[1m> Entering new ConversationChain chain...\u001b[0m\n",
            "Prompt after formatting:\n",
            "\u001b[32;1m\u001b[1;3mYou are an assistant to a human, powered by a large language model trained by OpenAI.\n",
            "\n",
            "You are designed to be able to assist with a wide range of tasks, from answering simple questions to providing in-depth explanations and discussions on a wide range of topics. As a language model, you are able to generate human-like text based on the input you receive, allowing you to engage in natural-sounding conversations and provide responses that are coherent and relevant to the topic at hand.\n",
            "\n",
            "You are constantly learning and improving, and your capabilities are constantly evolving. You are able to process and understand large amounts of text, and can use this knowledge to provide accurate and informative responses to a wide range of questions. You have access to some personalized information provided by the human in the Context section below. Additionally, you are able to generate your own text based on the input you receive, allowing you to engage in discussions and provide explanations and descriptions on a wide range of topics.\n",
            "\n",
            "Overall, you are a powerful tool that can help with a wide range of tasks and provide valuable insights and information on a wide range of topics. Whether the human needs help with a specific question or just wants to have a conversation about a particular topic, you are here to assist.\n",
            "\n",
            "Context:\n",
            "{'2023ABCD': '2023ABCD is an order placed by Zhang Lao San with the email address customer@abc.com, and is the order number provided by the customer.'}\n",
            "\n",
            "Current conversation:\n",
            "Human: 我叫张老三，在你们这里下了一张订单，订单号是 2023ABCD，我的邮箱地址是 customer@abc.com，但是这个订单十几天了还没有收到货\n",
            "AI:  您好，张老三，感谢您下订单，我们会尽快处理您的订单。我们会尽快为您发货，如果您有任何疑问，请随时联系我们。\n",
            "Human: 我刚才的订单号是多少？\n",
            "AI:  您的订单号是2023ABCD。\n",
            "Last line:\n",
            "Human: 订单2023ABCD是谁的订单？\n",
            "You:\u001b[0m\n"
          ]
        },
        {
          "output_type": "stream",
          "name": "stderr",
          "text": [
            "WARNING:langchain.llms.base:Retrying langchain.llms.openai.completion_with_retry.<locals>._completion_with_retry in 4.0 seconds as it raised RateLimitError: Rate limit reached for default-text-davinci-003 in organization org-LsRSFcCdezFMWrF1yYEd6eYe on requests per min. Limit: 3 / min. Please try again in 20s. Contact us through our help center at help.openai.com if you continue to have issues. Please add a payment method to your account to increase your rate limit. Visit https://platform.openai.com/account/billing to add a payment method..\n",
            "WARNING:langchain.llms.base:Retrying langchain.llms.openai.completion_with_retry.<locals>._completion_with_retry in 4.0 seconds as it raised RateLimitError: Rate limit reached for default-text-davinci-003 in organization org-LsRSFcCdezFMWrF1yYEd6eYe on requests per min. Limit: 3 / min. Please try again in 20s. Contact us through our help center at help.openai.com if you continue to have issues. Please add a payment method to your account to increase your rate limit. Visit https://platform.openai.com/account/billing to add a payment method..\n",
            "WARNING:langchain.llms.base:Retrying langchain.llms.openai.completion_with_retry.<locals>._completion_with_retry in 4.0 seconds as it raised RateLimitError: Rate limit reached for default-text-davinci-003 in organization org-LsRSFcCdezFMWrF1yYEd6eYe on requests per min. Limit: 3 / min. Please try again in 20s. Contact us through our help center at help.openai.com if you continue to have issues. Please add a payment method to your account to increase your rate limit. Visit https://platform.openai.com/account/billing to add a payment method..\n"
          ]
        },
        {
          "output_type": "stream",
          "name": "stdout",
          "text": [
            "\n",
            "\u001b[1m> Finished chain.\u001b[0m\n"
          ]
        },
        {
          "output_type": "stream",
          "name": "stderr",
          "text": [
            "WARNING:langchain.llms.base:Retrying langchain.llms.openai.completion_with_retry.<locals>._completion_with_retry in 4.0 seconds as it raised RateLimitError: Rate limit reached for default-text-davinci-003 in organization org-LsRSFcCdezFMWrF1yYEd6eYe on requests per min. Limit: 3 / min. Please try again in 20s. Contact us through our help center at help.openai.com if you continue to have issues. Please add a payment method to your account to increase your rate limit. Visit https://platform.openai.com/account/billing to add a payment method..\n",
            "WARNING:langchain.llms.base:Retrying langchain.llms.openai.completion_with_retry.<locals>._completion_with_retry in 4.0 seconds as it raised RateLimitError: Rate limit reached for default-text-davinci-003 in organization org-LsRSFcCdezFMWrF1yYEd6eYe on requests per min. Limit: 3 / min. Please try again in 20s. Contact us through our help center at help.openai.com if you continue to have issues. Please add a payment method to your account to increase your rate limit. Visit https://platform.openai.com/account/billing to add a payment method..\n",
            "WARNING:langchain.llms.base:Retrying langchain.llms.openai.completion_with_retry.<locals>._completion_with_retry in 8.0 seconds as it raised RateLimitError: Rate limit reached for default-text-davinci-003 in organization org-LsRSFcCdezFMWrF1yYEd6eYe on requests per min. Limit: 3 / min. Please try again in 20s. Contact us through our help center at help.openai.com if you continue to have issues. Please add a payment method to your account to increase your rate limit. Visit https://platform.openai.com/account/billing to add a payment method..\n"
          ]
        },
        {
          "output_type": "stream",
          "name": "stdout",
          "text": [
            " 订单2023ABCD是张老三的订单，他的邮箱地址是customer@abc.com。\n"
          ]
        }
      ]
    }
  ]
}
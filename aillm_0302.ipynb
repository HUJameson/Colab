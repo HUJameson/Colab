{
  "nbformat": 4,
  "nbformat_minor": 0,
  "metadata": {
    "colab": {
      "provenance": [],
      "authorship_tag": "ABX9TyMzypBYf2oEvanf9Bt+hlWP",
      "include_colab_link": true
    },
    "kernelspec": {
      "name": "python3",
      "display_name": "Python 3"
    },
    "language_info": {
      "name": "python"
    }
  },
  "cells": [
    {
      "cell_type": "markdown",
      "metadata": {
        "id": "view-in-github",
        "colab_type": "text"
      },
      "source": [
        "<a href=\"https://colab.research.google.com/github/HUJameson/Colab/blob/main/aillm_0302.ipynb\" target=\"_parent\"><img src=\"https://colab.research.google.com/assets/colab-badge.svg\" alt=\"Open In Colab\"/></a>"
      ]
    },
    {
      "cell_type": "code",
      "source": [
        "from google.colab import drive\n",
        "drive.mount('/content/drive')\n",
        "\n",
        "import os\n",
        "os.chdir(\"/content/drive/My Drive/Colab Notebooks\")"
      ],
      "metadata": {
        "id": "0kS8QVtbfn14",
        "colab": {
          "base_uri": "https://localhost:8080/"
        },
        "outputId": "db1ad561-388c-4460-b870-14ff5fec7d39"
      },
      "execution_count": 3,
      "outputs": [
        {
          "output_type": "stream",
          "name": "stdout",
          "text": [
            "Mounted at /content/drive\n"
          ]
        }
      ]
    },
    {
      "cell_type": "code",
      "source": [
        "!pip install openai\n",
        "import openai\n",
        "from sk_utils import read_sk\n",
        "openai_sk = read_sk()\n",
        "%env OPENAI_API_KEY=$openai_sk"
      ],
      "metadata": {
        "id": "OhIZ0WnCfrSH"
      },
      "execution_count": null,
      "outputs": []
    },
    {
      "cell_type": "code",
      "source": [
        "!pip install gradio\n",
        "!pip install langchain\n",
        "!pip install tiktoken"
      ],
      "metadata": {
        "id": "vLM5QwL7gFDd"
      },
      "execution_count": null,
      "outputs": []
    },
    {
      "cell_type": "code",
      "execution_count": null,
      "metadata": {
        "id": "wsEgNiZiffcV"
      },
      "outputs": [],
      "source": [
        "import openai, os\n",
        "import gradio as gr\n",
        "from langchain import OpenAI\n",
        "from langchain.chains import ConversationChain\n",
        "from langchain.memory import ConversationSummaryBufferMemory\n",
        "from langchain.chat_models import ChatOpenAI\n",
        "\n",
        "openai.api_key = os.environ[\"OPENAI_API_KEY\"]\n",
        "\n",
        "memory = ConversationSummaryBufferMemory(llm=ChatOpenAI(), max_token_limit=2048)\n",
        "conversation = ConversationChain(\n",
        "    llm=OpenAI(max_tokens=2048, temperature=0.5),\n",
        "    memory=memory,\n",
        ")\n",
        "\n",
        "def predict(input, history=[]):\n",
        "    history.append(input)\n",
        "    response = conversation.predict(input=input)\n",
        "    history.append(response)\n",
        "    responses = [(u,b) for u,b in zip(history[::2], history[1::2])]\n",
        "    return responses, history\n",
        "\n",
        "with gr.Blocks(css=\"#chatbot{height:800px} .overflow-y-auto{height:800px}\") as demo:\n",
        "    chatbot = gr.Chatbot(elem_id=\"chatbot\")\n",
        "    state = gr.State([])\n",
        "\n",
        "    with gr.Row():\n",
        "        txt = gr.Textbox(show_label=False, placeholder=\"Enter text and press enter\").style(container=False)\n",
        "\n",
        "    txt.submit(predict, [txt, state], [chatbot, state])\n",
        "\n",
        "demo.launch(debug=True)"
      ]
    },
    {
      "cell_type": "code",
      "source": [
        "import openai, os\n",
        "import gradio as gr\n",
        "from langchain import OpenAI\n",
        "from langchain.chains import ConversationChain\n",
        "from langchain.memory import ConversationSummaryBufferMemory\n",
        "from langchain.chat_models import ChatOpenAI\n",
        "\n",
        "openai.api_key = os.environ[\"OPENAI_API_KEY\"]\n",
        "\n",
        "memory = ConversationSummaryBufferMemory(llm=ChatOpenAI(), max_token_limit=2048)\n",
        "conversation = ConversationChain(\n",
        "    llm=OpenAI(max_tokens=2048, temperature=0.5),\n",
        "    memory=memory,\n",
        ")\n",
        "\n",
        "def predict(input, history=[]):\n",
        "    history.append(input)\n",
        "    response = conversation.predict(input=input)\n",
        "    history.append(response)\n",
        "    responses = [(u,b) for u,b in zip(history[::2], history[1::2])]\n",
        "    return responses, history\n",
        "\n",
        "def transcribe(audio):\n",
        "    print(audio)\n",
        "    os.rename(audio, audio + '.wav')\n",
        "    audio_file = open(audio + '.wav', \"rb\")\n",
        "    transcript = openai.Audio.transcribe(\"whisper-1\", audio_file)\n",
        "    return transcript['text']\n",
        "\n",
        "def process_audio(audio, history=[]):\n",
        "    text = transcribe(audio)\n",
        "    return predict(text, history)\n",
        "\n",
        "with gr.Blocks(css=\"#chatbot{height:350px} .overflow-y-auto{height:500px}\") as demo:\n",
        "    chatbot = gr.Chatbot(elem_id=\"chatbot\")\n",
        "    state = gr.State([])\n",
        "\n",
        "    with gr.Row():\n",
        "        txt = gr.Textbox(show_label=False, placeholder=\"Enter text and press enter\").style(container=False)\n",
        "\n",
        "    with gr.Row():\n",
        "        audio = gr.Audio(source=\"microphone\", type=\"filepath\")\n",
        "\n",
        "    txt.submit(predict, [txt, state], [chatbot, state])\n",
        "    audio.change(process_audio, [audio, state], [chatbot, state])\n",
        "\n",
        "demo.launch(debug=True)"
      ],
      "metadata": {
        "id": "_O9yjuJ6lcX_"
      },
      "execution_count": null,
      "outputs": []
    },
    {
      "cell_type": "code",
      "source": [
        "!pip install azure-cognitiveservices-speech"
      ],
      "metadata": {
        "id": "12HACWSDofVJ"
      },
      "execution_count": null,
      "outputs": []
    },
    {
      "cell_type": "code",
      "source": [
        "from sk_utils import read_sk\n",
        "azure_sk = read_sk('azure_sk')\n",
        "azure_rg = read_sk('azure_rg')\n",
        "%env AZURE_SPEECH_KEY=$azure_sk\n",
        "%env AZURE_SPEECH_REGION=$azure_rg"
      ],
      "metadata": {
        "id": "LZ2AijhgpDVk"
      },
      "execution_count": null,
      "outputs": []
    },
    {
      "cell_type": "code",
      "source": [
        "import openai, os\n",
        "import gradio as gr\n",
        "import azure.cognitiveservices.speech as speechsdk\n",
        "from langchain import OpenAI\n",
        "from langchain.chains import ConversationChain\n",
        "from langchain.memory import ConversationSummaryBufferMemory\n",
        "from langchain.chat_models import ChatOpenAI\n",
        "\n",
        "openai.api_key = os.environ[\"OPENAI_API_KEY\"]\n",
        "\n",
        "memory = ConversationSummaryBufferMemory(llm=ChatOpenAI(), max_token_limit=2048)\n",
        "conversation = ConversationChain(\n",
        "    llm=OpenAI(max_tokens=2048, temperature=0.5),\n",
        "    memory=memory,\n",
        ")\n",
        "\n",
        "speech_config = speechsdk.SpeechConfig(subscription=os.environ.get('AZURE_SPEECH_KEY'), region=os.environ.get('AZURE_SPEECH_REGION'))\n",
        "audio_config = speechsdk.audio.AudioOutputConfig(use_default_speaker=True)\n",
        "\n",
        "# The language of the voice that speaks.\n",
        "speech_config.speech_synthesis_language='zh-CN'\n",
        "speech_config.speech_synthesis_voice_name='zh-CN-XiaohanNeural'\n",
        "\n",
        "speech_synthesizer = speechsdk.SpeechSynthesizer(speech_config=speech_config, audio_config=audio_config)\n",
        "\n",
        "def play_voice(text):\n",
        "    speech_synthesizer.speak_text_async(text)\n",
        "\n",
        "def predict(input, history=[]):\n",
        "    history.append(input)\n",
        "    response = conversation.predict(input=input)\n",
        "    history.append(response)\n",
        "    play_voice(response)\n",
        "    responses = [(u,b) for u,b in zip(history[::2], history[1::2])]\n",
        "    return responses, history\n",
        "\n",
        "def transcribe(audio):\n",
        "    os.rename(audio, audio + '.wav')\n",
        "    audio_file = open(audio + '.wav', \"rb\")\n",
        "    transcript = openai.Audio.transcribe(\"whisper-1\", audio_file)\n",
        "    return transcript['text']\n",
        "\n",
        "def process_audio(audio, history=[]):\n",
        "    text = transcribe(audio)\n",
        "    return predict(text, history)\n",
        "\n",
        "with gr.Blocks(css=\"#chatbot{height:800px} .overflow-y-auto{height:800px}\") as demo:\n",
        "    chatbot = gr.Chatbot(elem_id=\"chatbot\")\n",
        "    state = gr.State([])\n",
        "\n",
        "    with gr.Row():\n",
        "        txt = gr.Textbox(show_label=False, placeholder=\"Enter text and press enter\").style(container=False)\n",
        "\n",
        "    with gr.Row():\n",
        "        audio = gr.Audio(source=\"microphone\", type=\"filepath\")\n",
        "\n",
        "    txt.submit(predict, [txt, state], [chatbot, state])\n",
        "    audio.change(process_audio, [audio, state], [chatbot, state])\n",
        "\n",
        "demo.launch()"
      ],
      "metadata": {
        "id": "2PggPWo-oXlk"
      },
      "execution_count": null,
      "outputs": []
    }
  ]
}
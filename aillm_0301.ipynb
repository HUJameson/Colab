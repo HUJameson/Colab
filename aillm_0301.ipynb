{
  "nbformat": 4,
  "nbformat_minor": 0,
  "metadata": {
    "colab": {
      "provenance": [],
      "gpuType": "T4",
      "authorship_tag": "ABX9TyON9fwx0aDzLJMRpUVxWgwY",
      "include_colab_link": true
    },
    "kernelspec": {
      "name": "python3",
      "display_name": "Python 3"
    },
    "language_info": {
      "name": "python"
    },
    "accelerator": "GPU"
  },
  "cells": [
    {
      "cell_type": "markdown",
      "metadata": {
        "id": "view-in-github",
        "colab_type": "text"
      },
      "source": [
        "<a href=\"https://colab.research.google.com/github/HUJameson/Colab/blob/main/aillm_0301.ipynb\" target=\"_parent\"><img src=\"https://colab.research.google.com/assets/colab-badge.svg\" alt=\"Open In Colab\"/></a>"
      ]
    },
    {
      "cell_type": "code",
      "source": [
        "from google.colab import drive\n",
        "drive.mount('/content/drive')\n",
        "\n",
        "import os\n",
        "os.chdir(\"/content/drive/My Drive/Colab Notebooks\")"
      ],
      "metadata": {
        "colab": {
          "base_uri": "https://localhost:8080/"
        },
        "id": "X7alrvKTRjwH",
        "outputId": "72888c81-e50b-4ef8-8d29-053243d05afe"
      },
      "execution_count": 7,
      "outputs": [
        {
          "output_type": "stream",
          "name": "stdout",
          "text": [
            "Mounted at /content/drive\n"
          ]
        }
      ]
    },
    {
      "cell_type": "code",
      "execution_count": null,
      "metadata": {
        "id": "9fq3eVO0LTOq"
      },
      "outputs": [],
      "source": [
        "!pip install azure-cognitiveservices-speech\n",
        "import azure.cognitiveservices.speech as speechsdk\n",
        "from sk_utils import read_sk\n",
        "azure_sk = read_sk('azure_sk')\n",
        "%env AZURE_SPEECH_KEY=$azure_sk\n",
        "%env AZURE_SPEECH_REGION=eastus"
      ]
    },
    {
      "cell_type": "code",
      "source": [
        "import os\n",
        "import azure.cognitiveservices.speech as speechsdk\n",
        "\n",
        "speech_config = speechsdk.SpeechConfig(subscription=os.environ.get('AZURE_SPEECH_KEY'), region=os.environ.get('AZURE_SPEECH_REGION'))\n",
        "audio_config = speechsdk.audio.AudioOutputConfig(use_default_speaker=True)\n",
        "\n",
        "# The language of the voice that speaks.\n",
        "speech_config.speech_synthesis_voice_name='zh-CN-XiaohanNeural'\n",
        "\n",
        "speech_synthesizer = speechsdk.SpeechSynthesizer(speech_config=speech_config, audio_config=audio_config)\n",
        "\n",
        "text = \"今天天气真不错，ChatGPT真好用。\"\n",
        "\n",
        "speech_synthesizer.speak_text_async(text)"
      ],
      "metadata": {
        "colab": {
          "base_uri": "https://localhost:8080/"
        },
        "id": "KWQRNxAXMKLQ",
        "outputId": "1af2a611-ccfd-482c-d466-32fa977a0d01"
      },
      "execution_count": 16,
      "outputs": [
        {
          "output_type": "execute_result",
          "data": {
            "text/plain": [
              "<azure.cognitiveservices.speech.ResultFuture at 0x120885250>"
            ]
          },
          "metadata": {},
          "execution_count": 16
        }
      ]
    },
    {
      "cell_type": "code",
      "source": [
        "speech_config.speech_synthesis_voice_name='zh-CN-YunfengNeural'\n",
        "speech_synthesizer = speechsdk.SpeechSynthesizer(speech_config=speech_config, audio_config=audio_config)\n",
        "speech_synthesizer.speak_text_async(text)"
      ],
      "metadata": {
        "colab": {
          "base_uri": "https://localhost:8080/"
        },
        "id": "y_PhipXuQ-_n",
        "outputId": "562ed0ca-010c-4c31-d786-5457e795536d"
      },
      "execution_count": 17,
      "outputs": [
        {
          "output_type": "execute_result",
          "data": {
            "text/plain": [
              "<azure.cognitiveservices.speech.ResultFuture at 0x116f355d0>"
            ]
          },
          "metadata": {},
          "execution_count": 17
        }
      ]
    },
    {
      "cell_type": "code",
      "source": [
        "ssml = \"\"\"<speak version=\"1.0\" xmlns=\"http://www.w3.org/2001/10/synthesis\"\n",
        "       xmlns:mstts=\"https://www.w3.org/2001/mstts\" xml:lang=\"zh-CN\">\n",
        "    <voice name=\"zh-CN-YunyeNeural\">\n",
        "        儿子看见母亲走了过来，说到：\n",
        "        <mstts:express-as role=\"Boy\" style=\"cheerful\">\n",
        "            “妈妈，我想要买个新玩具”\n",
        "        </mstts:express-as>\n",
        "    </voice>\n",
        "    <voice name=\"zh-CN-XiaomoNeural\">\n",
        "        母亲放下包，说：\n",
        "        <mstts:express-as role=\"SeniorFemale\" style=\"angry\">\n",
        "            “我看你长得像个玩具。”\n",
        "        </mstts:express-as>\n",
        "    </voice>\n",
        "</speak>\"\"\"\n",
        "\n",
        "speech_synthesis_result = speech_synthesizer.speak_ssml_async(ssml).get()"
      ],
      "metadata": {
        "id": "o2zUGbWNRjE2"
      },
      "execution_count": 19,
      "outputs": []
    },
    {
      "cell_type": "code",
      "source": [
        "ssml = \"\"\"<speak version=\"1.0\" xmlns=\"http://www.w3.org/2001/10/synthesis\"\n",
        "       xmlns:mstts=\"https://www.w3.org/2001/mstts\" xml:lang=\"en-US\">\n",
        "    <voice name=\"en-US-JennyNeural\">\n",
        "        <mstts:express-as style=\"excited\">\n",
        "            That'd be just amazing!\n",
        "        </mstts:express-as>\n",
        "        <mstts:express-as style=\"friendly\">\n",
        "            What's next?\n",
        "        </mstts:express-as>\n",
        "    </voice>\n",
        "</speak>\"\"\"\n",
        "\n",
        "speech_synthesis_result = speech_synthesizer.speak_ssml_async(ssml).get()"
      ],
      "metadata": {
        "id": "jKhfw6svSIZH"
      },
      "execution_count": 22,
      "outputs": []
    },
    {
      "cell_type": "code",
      "source": [
        "speech_config.speech_synthesis_language='zh-CN'\n",
        "speech_config.speech_synthesis_voice_name='zh-CN-XiaohanNeural'\n",
        "\n",
        "audio_config = speechsdk.audio.AudioOutputConfig(filename=\"./data/tts.wav\")\n",
        "\n",
        "speech_synthesizer = speechsdk.SpeechSynthesizer(speech_config=speech_config, audio_config=audio_config)\n",
        "\n",
        "text = \"今天天气真不错，ChatGPT真好用\"\n",
        "speech_synthesizer.speak_text_async(text)"
      ],
      "metadata": {
        "colab": {
          "base_uri": "https://localhost:8080/"
        },
        "id": "fo-NDt_8S55C",
        "outputId": "78452669-a7e6-49fb-b31c-a626025fefda"
      },
      "execution_count": 23,
      "outputs": [
        {
          "output_type": "execute_result",
          "data": {
            "text/plain": [
              "<azure.cognitiveservices.speech.ResultFuture at 0x12017ed50>"
            ]
          },
          "metadata": {},
          "execution_count": 23
        }
      ]
    },
    {
      "cell_type": "code",
      "source": [
        "speech_config.set_speech_synthesis_output_format(speechsdk.SpeechSynthesisOutputFormat.Audio48Khz192KBitRateMonoMp3)\n",
        "\n",
        "speech_synthesizer = speechsdk.SpeechSynthesizer(speech_config=speech_config, audio_config=None)\n",
        "result = speech_synthesizer.speak_text_async(text).get()\n",
        "stream =speechsdk.AudioDataStream(result)\n",
        "\n",
        "stream.save_to_wav_file(\"./data/tts.mp3\")"
      ],
      "metadata": {
        "id": "WXzS1VB3TdUE"
      },
      "execution_count": 24,
      "outputs": []
    },
    {
      "cell_type": "code",
      "source": [
        "%pip install paddlepaddle\n",
        "%pip install paddlespeech"
      ],
      "metadata": {
        "id": "qH1H-T1CT1Vh"
      },
      "execution_count": null,
      "outputs": []
    },
    {
      "cell_type": "code",
      "source": [
        "from paddlespeech.cli.tts.infer import TTSExecutor\n",
        "\n",
        "tts_executor = TTSExecutor()\n",
        "\n",
        "text = \"今天天气十分不错，百度也能做语音合成。\"\n",
        "output_file = \"./data/paddlespeech.wav\"\n",
        "tts_executor(text=text, output=output_file)"
      ],
      "metadata": {
        "id": "rzHjx1bsUiG5"
      },
      "execution_count": null,
      "outputs": []
    },
    {
      "cell_type": "code",
      "source": [
        "!sudo apt-get install portaudio19-dev\n",
        "!pip install pyaudio"
      ],
      "metadata": {
        "id": "uZjfbcyUXrPP"
      },
      "execution_count": null,
      "outputs": []
    },
    {
      "cell_type": "code",
      "source": [
        "import wave\n",
        "import pyaudio\n",
        "\n",
        "def play_wav_audio(wav_file):\n",
        "    # open the wave file\n",
        "    wf = wave.open(wav_file, 'rb')\n",
        "\n",
        "    # instantiate PyAudio\n",
        "    p = pyaudio.PyAudio()\n",
        "\n",
        "    # open a stream\n",
        "    stream = p.open(format=p.get_format_from_width(wf.getsampwidth()),\n",
        "                    channels=wf.getnchannels(),\n",
        "                    rate=wf.getframerate(),\n",
        "                    output=True)\n",
        "\n",
        "    # read data from the wave file and play it\n",
        "    data = wf.readframes(1024)\n",
        "    while data:\n",
        "        stream.write(data)\n",
        "        data = wf.readframes(1024)\n",
        "\n",
        "    # close the stream and terminate PyAudio\n",
        "    stream.stop_stream()\n",
        "    stream.close()\n",
        "    p.terminate()\n",
        "\n",
        "output_file = \"./data/tts.wav\"\n",
        "play_wav_audio(output_file)"
      ],
      "metadata": {
        "id": "nnuLa4-9XpAG"
      },
      "execution_count": null,
      "outputs": []
    },
    {
      "cell_type": "code",
      "source": [
        "tts_executor = TTSExecutor()\n",
        "\n",
        "text = \"今天天气十分不错，Paddle Speech也能做语音合成。\"\n",
        "output_file = \"./data/paddlespeech_missing.wav\"\n",
        "tts_executor(text=text, output=output_file)\n",
        "\n",
        "play_wav_audio(output_file)"
      ],
      "metadata": {
        "id": "qCuRNXuUYIU6"
      },
      "execution_count": null,
      "outputs": []
    },
    {
      "cell_type": "code",
      "source": [
        "tts_executor = TTSExecutor()\n",
        "\n",
        "text = \"早上好, how are you? 百度Paddle Speech一样能做中英文混合的语音合成。\"\n",
        "output_file = \"./data/paddlespeech_mix.wav\"\n",
        "tts_executor(text=text, output=output_file,\n",
        "             am=\"fastspeech2_mix\", voc=\"hifigan_csmsc\",\n",
        "             lang=\"mix\", spk_id=174)\n",
        "\n",
        "play_wav_audio(output_file)"
      ],
      "metadata": {
        "id": "UqYssxtVYRw1"
      },
      "execution_count": null,
      "outputs": []
    }
  ]
}
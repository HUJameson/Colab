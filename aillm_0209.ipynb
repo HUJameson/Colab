{
  "nbformat": 4,
  "nbformat_minor": 0,
  "metadata": {
    "colab": {
      "provenance": [],
      "mount_file_id": "1WjzI2egMQAT0QK0iixDEE1y5adrxIX5O",
      "authorship_tag": "ABX9TyMxEoXPEzAZ5C+GO4H3beuB",
      "include_colab_link": true
    },
    "kernelspec": {
      "name": "python3",
      "display_name": "Python 3"
    },
    "language_info": {
      "name": "python"
    }
  },
  "cells": [
    {
      "cell_type": "markdown",
      "metadata": {
        "id": "view-in-github",
        "colab_type": "text"
      },
      "source": [
        "<a href=\"https://colab.research.google.com/github/HUJameson/Colab/blob/main/aillm_0209.ipynb\" target=\"_parent\"><img src=\"https://colab.research.google.com/assets/colab-badge.svg\" alt=\"Open In Colab\"/></a>"
      ]
    },
    {
      "cell_type": "code",
      "source": [
        "from google.colab import drive\n",
        "drive.mount('/content/drive')\n",
        "\n",
        "import os\n",
        "os.chdir(\"/content/drive/My Drive/Colab Notebooks\")"
      ],
      "metadata": {
        "colab": {
          "base_uri": "https://localhost:8080/"
        },
        "id": "-aP7yv4Kwizy",
        "outputId": "c9188887-605a-41ac-b143-db466a09fb3f"
      },
      "execution_count": 1,
      "outputs": [
        {
          "output_type": "stream",
          "name": "stdout",
          "text": [
            "Mounted at /content/drive\n"
          ]
        }
      ]
    },
    {
      "cell_type": "code",
      "source": [
        "!pip install openai\n",
        "import openai\n",
        "from sk_utils import read_sk\n",
        "openai_sk = read_sk()\n",
        "%env OPENAI_API_KEY=$openai_sk"
      ],
      "metadata": {
        "id": "KbYMnpHuwmqn"
      },
      "execution_count": null,
      "outputs": []
    },
    {
      "cell_type": "code",
      "source": [
        "!pip install langchain"
      ],
      "metadata": {
        "id": "vhAm04-vwuGJ"
      },
      "execution_count": null,
      "outputs": []
    },
    {
      "cell_type": "code",
      "execution_count": 4,
      "metadata": {
        "colab": {
          "base_uri": "https://localhost:8080/"
        },
        "id": "I5WCTmOjwJdI",
        "outputId": "8159bc2d-8218-406a-cbb8-8f925d384de7"
      },
      "outputs": [
        {
          "output_type": "stream",
          "name": "stderr",
          "text": [
            "/usr/local/lib/python3.10/dist-packages/langchain/llms/openai.py:790: UserWarning: You are trying to use a chat model. This way of initializing it is no longer supported. Instead, please use: `from langchain.chat_models import ChatOpenAI`\n",
            "  warnings.warn(\n"
          ]
        }
      ],
      "source": [
        "import openai, os\n",
        "\n",
        "openai.api_key = os.environ.get(\"OPENAI_API_KEY\")\n",
        "\n",
        "from langchain.prompts import PromptTemplate\n",
        "from langchain.llms import OpenAIChat\n",
        "from langchain.chains import LLMChain\n",
        "\n",
        "llm = OpenAIChat(max_tokens=2048, temperature=0.5)\n",
        "multiple_choice = \"\"\"\n",
        "请针对 >>> 和 <<< 中间的用户问题，选择一个合适的工具去回答她的问题。只要用A、B、C的选项字母告诉我答案。\n",
        "如果你觉得都不合适，就选D。\n",
        "\n",
        ">>>{question}<<<\n",
        "\n",
        "我们有的工具包括：\n",
        "A. 一个能够查询商品信息，为用户进行商品导购的工具\n",
        "B. 一个能够查询订单信息，获得最新的订单情况的工具\n",
        "C. 一个能够搜索商家的退换货政策、运费、物流时长、支付渠道、覆盖国家的工具\n",
        "D. 都不合适\n",
        "\"\"\"\n",
        "multiple_choice_prompt = PromptTemplate(template=multiple_choice, input_variables=[\"question\"])\n",
        "choice_chain = LLMChain(llm=llm, prompt=multiple_choice_prompt, output_key=\"answer\")"
      ]
    },
    {
      "cell_type": "code",
      "source": [
        "question = \"我想买一件衣服，但是不知道哪个款式好看，你能帮我推荐一下吗？\"\n",
        "print(choice_chain(question))"
      ],
      "metadata": {
        "colab": {
          "base_uri": "https://localhost:8080/"
        },
        "id": "vLmVfSEdxymX",
        "outputId": "cc4d79cc-a920-4ae2-918f-73bb0297b6d8"
      },
      "execution_count": 5,
      "outputs": [
        {
          "output_type": "stream",
          "name": "stdout",
          "text": [
            "{'question': '我想买一件衣服，但是不知道哪个款式好看，你能帮我推荐一下吗？', 'answer': 'A. 一个能够查询商品信息，为用户进行商品导购的工具'}\n"
          ]
        }
      ]
    },
    {
      "cell_type": "code",
      "source": [
        "question = \"我有一张订单，订单号是 2022ABCDE，一直没有收到，能麻烦帮我查一下吗？\"\n",
        "print(choice_chain(question))"
      ],
      "metadata": {
        "colab": {
          "base_uri": "https://localhost:8080/"
        },
        "id": "xOT4hclQx9C9",
        "outputId": "0886f3b2-4846-4a77-844c-7b7c4fe0f15e"
      },
      "execution_count": 6,
      "outputs": [
        {
          "output_type": "stream",
          "name": "stdout",
          "text": [
            "{'question': '我有一张订单，订单号是 2022ABCDE，一直没有收到，能麻烦帮我查一下吗？', 'answer': 'B. 一个能够查询订单信息，获得最新的订单情况的工具'}\n"
          ]
        }
      ]
    },
    {
      "cell_type": "code",
      "source": [
        "question = \"请问你们的货，能送到三亚吗？大概需要几天？\"\n",
        "print(choice_chain(question))"
      ],
      "metadata": {
        "colab": {
          "base_uri": "https://localhost:8080/"
        },
        "id": "7EBBrSNGyEgI",
        "outputId": "c45ad867-a0c9-435d-c778-c0a060e48f46"
      },
      "execution_count": 7,
      "outputs": [
        {
          "output_type": "stream",
          "name": "stdout",
          "text": [
            "{'question': '请问你们的货，能送到三亚吗？大概需要几天？', 'answer': 'C. 一个能够搜索商家的退换货政策、运费、物流时长、支付渠道、覆盖国家的工具'}\n"
          ]
        }
      ]
    },
    {
      "cell_type": "code",
      "source": [
        "question = \"今天天气怎么样？\"\n",
        "print(choice_chain(question))"
      ],
      "metadata": {
        "colab": {
          "base_uri": "https://localhost:8080/"
        },
        "id": "5J_HEocuyTxy",
        "outputId": "8f30b1f3-8fcd-40d1-e002-06e3fede1b48"
      },
      "execution_count": 8,
      "outputs": [
        {
          "output_type": "stream",
          "name": "stdout",
          "text": [
            "{'question': '今天天气怎么样？', 'answer': 'D. 都不合适'}\n"
          ]
        }
      ]
    },
    {
      "cell_type": "code",
      "source": [
        "from langchain.agents import initialize_agent, Tool\n",
        "from langchain.llms import OpenAI\n",
        "\n",
        "llm = OpenAI(temperature=0)\n",
        "\n",
        "def search_order(input: str) -> str:\n",
        "    return \"订单状态：已发货；发货日期：2023-01-01；预计送达时间：2023-01-10\"\n",
        "\n",
        "def recommend_product(input: str) -> str:\n",
        "    return \"红色连衣裙\"\n",
        "\n",
        "def faq(intput: str) -> str:\n",
        "    return \"7天无理由退货\"\n",
        "\n",
        "tools = [\n",
        "    Tool(\n",
        "        name = \"Search Order\",func=search_order,\n",
        "        description=\"useful for when you need to answer questions about customers orders\"\n",
        "    ),\n",
        "    Tool(name=\"Recommend Product\", func=recommend_product,\n",
        "         description=\"useful for when you need to answer questions about product recommendations\"\n",
        "    ),\n",
        "    Tool(name=\"FAQ\", func=faq,\n",
        "         description=\"useful for when you need to answer questions about shopping policies, like return policy, shipping policy, etc.\"\n",
        "    )\n",
        "]\n",
        "\n",
        "agent = initialize_agent(tools, llm, agent=\"zero-shot-react-description\", verbose=True)"
      ],
      "metadata": {
        "id": "Bke0PfhTzH5s"
      },
      "execution_count": 9,
      "outputs": []
    },
    {
      "cell_type": "code",
      "source": [
        "question = \"我想买一件衣服，但是不知道哪个款式好看，你能帮我推荐一下吗？\"\n",
        "result = agent.run(question)\n",
        "print(result)"
      ],
      "metadata": {
        "colab": {
          "base_uri": "https://localhost:8080/"
        },
        "id": "hC1TZA3lzihr",
        "outputId": "71421289-e288-4642-f0dd-6e63adb71fab"
      },
      "execution_count": 10,
      "outputs": [
        {
          "output_type": "stream",
          "name": "stdout",
          "text": [
            "\n",
            "\n",
            "\u001b[1m> Entering new AgentExecutor chain...\u001b[0m\n",
            "\u001b[32;1m\u001b[1;3m I need to recommend a product.\n",
            "Action: Recommend Product\n",
            "Action Input: Clothing\u001b[0m\n",
            "Observation: \u001b[33;1m\u001b[1;3m红色连衣裙\u001b[0m\n",
            "Thought:\u001b[32;1m\u001b[1;3m I now know the final answer.\n",
            "Final Answer: 我推荐红色连衣裙。\u001b[0m\n",
            "\n",
            "\u001b[1m> Finished chain.\u001b[0m\n",
            "我推荐红色连衣裙。\n"
          ]
        }
      ]
    },
    {
      "cell_type": "code",
      "source": [
        "question = \"我有一张订单，订单号是 2022ABCDE，一直没有收到，能麻烦帮我查一下吗？\"\n",
        "result = agent.run(question)\n",
        "print(result)"
      ],
      "metadata": {
        "colab": {
          "base_uri": "https://localhost:8080/"
        },
        "id": "-cYNNvnGz5Ya",
        "outputId": "b08c692e-d313-4ff7-9788-5732fa266d44"
      },
      "execution_count": 11,
      "outputs": [
        {
          "output_type": "stream",
          "name": "stdout",
          "text": [
            "\n",
            "\n",
            "\u001b[1m> Entering new AgentExecutor chain...\u001b[0m\n",
            "\u001b[32;1m\u001b[1;3m I need to find out the status of this order\n",
            "Action: Search Order\n",
            "Action Input: 2022ABCDE\u001b[0m\n",
            "Observation: \u001b[36;1m\u001b[1;3m订单状态：已发货；发货日期：2023-01-01；预计送达时间：2023-01-10\u001b[0m\n",
            "Thought:\u001b[32;1m\u001b[1;3m I now know the final answer\n",
            "Final Answer: 您的订单 2022ABCDE 已发货，预计将于2023-01-10送达。\u001b[0m\n",
            "\n",
            "\u001b[1m> Finished chain.\u001b[0m\n",
            "您的订单 2022ABCDE 已发货，预计将于2023-01-10送达。\n"
          ]
        }
      ]
    },
    {
      "cell_type": "code",
      "source": [
        "question = \"请问你们的货，能送到三亚吗？大概需要几天？\"\n",
        "result = agent.run(question)\n",
        "print(result)"
      ],
      "metadata": {
        "colab": {
          "base_uri": "https://localhost:8080/"
        },
        "id": "rUc2Qy8j0IDj",
        "outputId": "a8f892ec-7382-4613-9bf2-0f2a5048cc6c"
      },
      "execution_count": 12,
      "outputs": [
        {
          "output_type": "stream",
          "name": "stdout",
          "text": [
            "\n",
            "\n",
            "\u001b[1m> Entering new AgentExecutor chain...\u001b[0m\n",
            "\u001b[32;1m\u001b[1;3m I need to find out the shipping policy and delivery time\n",
            "Action: FAQ\n",
            "Action Input: Shipping policy and delivery time\u001b[0m\n",
            "Observation: \u001b[38;5;200m\u001b[1;3m7天无理由退货\u001b[0m\n",
            "Thought:\u001b[32;1m\u001b[1;3m I need to find out the delivery time\n",
            "Action: FAQ\n",
            "Action Input: Delivery time\u001b[0m\n",
            "Observation: \u001b[38;5;200m\u001b[1;3m7天无理由退货\u001b[0m\n",
            "Thought:"
          ]
        },
        {
          "output_type": "stream",
          "name": "stderr",
          "text": [
            "WARNING:langchain.llms.base:Retrying langchain.llms.openai.completion_with_retry.<locals>._completion_with_retry in 4.0 seconds as it raised RateLimitError: Rate limit reached for default-text-davinci-003 in organization org-LsRSFcCdezFMWrF1yYEd6eYe on requests per min. Limit: 3 / min. Please try again in 20s. Contact us through our help center at help.openai.com if you continue to have issues. Please add a payment method to your account to increase your rate limit. Visit https://platform.openai.com/account/billing to add a payment method..\n"
          ]
        },
        {
          "output_type": "stream",
          "name": "stdout",
          "text": [
            "\u001b[32;1m\u001b[1;3m I need to find out if we can deliver to Sanya\n",
            "Action: FAQ\n",
            "Action Input: Delivery to Sanya\u001b[0m\n",
            "Observation: \u001b[38;5;200m\u001b[1;3m7天无理由退货\u001b[0m\n",
            "Thought:"
          ]
        },
        {
          "output_type": "stream",
          "name": "stderr",
          "text": [
            "WARNING:langchain.llms.base:Retrying langchain.llms.openai.completion_with_retry.<locals>._completion_with_retry in 4.0 seconds as it raised RateLimitError: Rate limit reached for default-text-davinci-003 in organization org-LsRSFcCdezFMWrF1yYEd6eYe on requests per min. Limit: 3 / min. Please try again in 20s. Contact us through our help center at help.openai.com if you continue to have issues. Please add a payment method to your account to increase your rate limit. Visit https://platform.openai.com/account/billing to add a payment method..\n",
            "WARNING:langchain.llms.base:Retrying langchain.llms.openai.completion_with_retry.<locals>._completion_with_retry in 4.0 seconds as it raised RateLimitError: Rate limit reached for default-text-davinci-003 in organization org-LsRSFcCdezFMWrF1yYEd6eYe on requests per min. Limit: 3 / min. Please try again in 20s. Contact us through our help center at help.openai.com if you continue to have issues. Please add a payment method to your account to increase your rate limit. Visit https://platform.openai.com/account/billing to add a payment method..\n",
            "WARNING:langchain.llms.base:Retrying langchain.llms.openai.completion_with_retry.<locals>._completion_with_retry in 8.0 seconds as it raised RateLimitError: Rate limit reached for default-text-davinci-003 in organization org-LsRSFcCdezFMWrF1yYEd6eYe on requests per min. Limit: 3 / min. Please try again in 20s. Contact us through our help center at help.openai.com if you continue to have issues. Please add a payment method to your account to increase your rate limit. Visit https://platform.openai.com/account/billing to add a payment method..\n"
          ]
        },
        {
          "output_type": "stream",
          "name": "stdout",
          "text": [
            "\u001b[32;1m\u001b[1;3m I now know the final answer\n",
            "Final Answer: 我们可以把货送到三亚，大概需要7天。\u001b[0m\n",
            "\n",
            "\u001b[1m> Finished chain.\u001b[0m\n",
            "我们可以把货送到三亚，大概需要7天。\n"
          ]
        }
      ]
    },
    {
      "cell_type": "code",
      "source": [
        "agent = initialize_agent(tools, llm, agent=\"zero-shot-react-description\", max_iterations = 2, verbose=True)\n",
        "question = \"请问你们的货，能送到三亚吗？大概需要几天？\"\n",
        "result = agent.run(question)\n",
        "print(\"===\")\n",
        "print(result)\n",
        "print(\"===\")"
      ],
      "metadata": {
        "colab": {
          "base_uri": "https://localhost:8080/"
        },
        "id": "thycPKxA1EmS",
        "outputId": "4988aa4f-b8b0-451c-d565-00e220432e16"
      },
      "execution_count": 13,
      "outputs": [
        {
          "output_type": "stream",
          "name": "stdout",
          "text": [
            "\n",
            "\n",
            "\u001b[1m> Entering new AgentExecutor chain...\u001b[0m\n",
            "\u001b[32;1m\u001b[1;3m I need to find out the shipping policy and delivery time\n",
            "Action: FAQ\n",
            "Action Input: Shipping policy and delivery time\u001b[0m\n",
            "Observation: \u001b[38;5;200m\u001b[1;3m7天无理由退货\u001b[0m\n",
            "Thought:\u001b[32;1m\u001b[1;3m I need to find out the delivery time\n",
            "Action: FAQ\n",
            "Action Input: Delivery time\u001b[0m\n",
            "Observation: \u001b[38;5;200m\u001b[1;3m7天无理由退货\u001b[0m\n",
            "Thought:\u001b[32;1m\u001b[1;3m\u001b[0m\n",
            "\n",
            "\u001b[1m> Finished chain.\u001b[0m\n",
            "===\n",
            "Agent stopped due to iteration limit or time limit.\n",
            "===\n"
          ]
        }
      ]
    },
    {
      "cell_type": "code",
      "source": [
        "!pip install spacy\n",
        "!python -m spacy download zh_core_web_sm\n",
        "!pip install tiktoken\n",
        "!pip install faiss-cpu"
      ],
      "metadata": {
        "id": "VuUppkCF1vXd"
      },
      "execution_count": null,
      "outputs": []
    },
    {
      "cell_type": "code",
      "source": [
        "from langchain.embeddings.openai import OpenAIEmbeddings\n",
        "from langchain.vectorstores import FAISS\n",
        "from langchain.text_splitter import SpacyTextSplitter\n",
        "from langchain import OpenAI, VectorDBQA\n",
        "from langchain.document_loaders import TextLoader\n",
        "\n",
        "llm = OpenAI(temperature=0)\n",
        "loader = TextLoader('./data/ecommerce/ecommerce_faq.txt')\n",
        "documents = loader.load()\n",
        "text_splitter = SpacyTextSplitter(chunk_size=256, pipeline=\"zh_core_web_sm\")\n",
        "texts = text_splitter.split_documents(documents)\n",
        "\n",
        "embeddings = OpenAIEmbeddings()\n",
        "docsearch = FAISS.from_documents(texts, embeddings)\n",
        "\n",
        "faq_chain = VectorDBQA.from_chain_type(llm=llm, vectorstore=docsearch, verbose=True)"
      ],
      "metadata": {
        "colab": {
          "base_uri": "https://localhost:8080/"
        },
        "id": "tSdVgLRg1WYk",
        "outputId": "8a27a50b-903a-4acb-b85f-a458bdba45c3"
      },
      "execution_count": 19,
      "outputs": [
        {
          "output_type": "stream",
          "name": "stderr",
          "text": [
            "/usr/local/lib/python3.10/dist-packages/langchain/chains/retrieval_qa/base.py:251: UserWarning: `VectorDBQA` is deprecated - please use `from langchain.chains import RetrievalQA`\n",
            "  warnings.warn(\n"
          ]
        }
      ]
    },
    {
      "cell_type": "code",
      "source": [
        "from langchain.agents import tool\n",
        "\n",
        "@tool(\"FAQ\")\n",
        "def faq(intput: str) -> str:\n",
        "    \"\"\"\"useful for when you need to answer questions about shopping policies, like return policy, shipping policy, etc.\"\"\"\n",
        "    return faq_chain.run(intput)\n",
        "\n",
        "tools = [\n",
        "    Tool(\n",
        "        name = \"Search Order\",func=search_order,\n",
        "        description=\"useful for when you need to answer questions about customers orders\"\n",
        "    ),\n",
        "    Tool(name=\"Recommend Product\", func=recommend_product,\n",
        "         description=\"useful for when you need to answer questions about product recommendations\"\n",
        "    ),\n",
        "    faq\n",
        "]\n",
        "\n",
        "agent = initialize_agent(tools, llm, agent=\"zero-shot-react-description\", verbose=True)"
      ],
      "metadata": {
        "id": "Sr6-wv51252s"
      },
      "execution_count": 21,
      "outputs": []
    },
    {
      "cell_type": "code",
      "source": [
        "question = \"请问你们的货，能送到三亚吗？大概需要几天？\"\n",
        "result = agent.run(question)\n",
        "print(result)"
      ],
      "metadata": {
        "colab": {
          "base_uri": "https://localhost:8080/"
        },
        "id": "wpWnOGxW3HSp",
        "outputId": "10984f92-0238-4d56-aba5-2d3b8d26dd92"
      },
      "execution_count": 22,
      "outputs": [
        {
          "output_type": "stream",
          "name": "stdout",
          "text": [
            "\n",
            "\n",
            "\u001b[1m> Entering new AgentExecutor chain...\u001b[0m\n",
            "\u001b[32;1m\u001b[1;3m I need to find out the shipping policy and delivery time.\n",
            "Action: FAQ\n",
            "Action Input: shipping policy and delivery time\u001b[0m\n",
            "\n",
            "\u001b[1m> Entering new VectorDBQA chain...\u001b[0m\n",
            "\n",
            "\u001b[1m> Finished chain.\u001b[0m\n",
            "\n",
            "Observation: \u001b[38;5;200m\u001b[1;3m 我们支持全国大部分省份的配送，一般情况下，大部分城市的订单在2-3个工作日内送达，偏远地区可能需要5-7个工作日。具体送货时间可能因订单商品、配送地址和物流公司而异。\u001b[0m\n",
            "Thought:\u001b[32;1m\u001b[1;3m I now know the final answer\n",
            "Final Answer: 我们支持全国大部分省份的配送，一般情况下，大部分城市的订单在2-3个工作日内送达，偏远地区可能需要5-7个工作日。具体送货时间可能因订单商品、配送地址和物流公司而异。\u001b[0m\n",
            "\n",
            "\u001b[1m> Finished chain.\u001b[0m\n",
            "我们支持全国大部分省份的配送，一般情况下，大部分城市的订单在2-3个工作日内送达，偏远地区可能需要5-7个工作日。具体送货时间可能因订单商品、配送地址和物流公司而异。\n"
          ]
        }
      ]
    },
    {
      "cell_type": "code",
      "source": [
        "from langchain.text_splitter import CharacterTextSplitter\n",
        "from langchain.document_loaders import CSVLoader\n",
        "\n",
        "product_loader = CSVLoader('./data/ecommerce/ecommerce_products.csv')\n",
        "product_documents = product_loader.load()\n",
        "product_text_splitter = CharacterTextSplitter(chunk_size=1024, separator=\"\\n\")\n",
        "product_texts = product_text_splitter.split_documents(product_documents)\n",
        "product_search = FAISS.from_documents(product_texts, OpenAIEmbeddings())\n",
        "product_chain = VectorDBQA.from_chain_type(llm=llm, vectorstore=product_search, verbose=True)\n",
        "\n",
        "@tool(\"FAQ\")\n",
        "def faq(intput: str) -> str:\n",
        "    \"\"\"\"useful for when you need to answer questions about shopping policies, like return policy, shipping policy, etc.\"\"\"\n",
        "    return faq_chain.run(input)\n",
        "\n",
        "@tool(\"Recommend Product\")\n",
        "def recommend_product(input: str) -> str:\n",
        "    \"\"\"\"useful for when you need to search and recommend products and recommend it to the user\"\"\"\n",
        "    return product_chain.run(input)\n",
        "\n",
        "tools = [\n",
        "    Tool(\n",
        "        name = \"Search Order\",func=search_order,\n",
        "        description=\"useful for when you need to answer questions about customers orders\"\n",
        "    ),\n",
        "    recommend_product, faq]\n",
        "\n",
        "agent = initialize_agent(tools, llm, agent=\"zero-shot-react-description\", verbose=True)"
      ],
      "metadata": {
        "id": "VIgmUWML4R-G"
      },
      "execution_count": 23,
      "outputs": []
    },
    {
      "cell_type": "code",
      "source": [
        "question = \"我想买一件衣服，想要在春天去公园穿，但是不知道哪个款式好看，你能帮我推荐一下吗？\"\n",
        "answer = agent.run(question)\n",
        "print(answer)"
      ],
      "metadata": {
        "colab": {
          "base_uri": "https://localhost:8080/"
        },
        "id": "pw75dcbl4fwb",
        "outputId": "f0a24548-6780-48dc-f1ca-01e31aba76ed"
      },
      "execution_count": 24,
      "outputs": [
        {
          "output_type": "stream",
          "name": "stdout",
          "text": [
            "\n",
            "\n",
            "\u001b[1m> Entering new AgentExecutor chain...\u001b[0m\n",
            "\u001b[32;1m\u001b[1;3m I need to recommend a product to the user.\n",
            "Action: Recommend Product\n",
            "Action Input: Clothing for park in spring\u001b[0m\n",
            "\n",
            "\u001b[1m> Entering new VectorDBQA chain...\u001b[0m\n",
            "\n",
            "\u001b[1m> Finished chain.\u001b[0m\n",
            "\n",
            "Observation: \u001b[33;1m\u001b[1;3m 休闲、简约风格的衣服，比如长款风衣、卫衣连衣裙、长款卫衣等。\u001b[0m\n",
            "Thought:\u001b[32;1m\u001b[1;3m I now know the final answer.\n",
            "Final Answer: 我建议您可以选择休闲、简约风格的衣服，比如长款风衣、卫衣连衣裙、长款卫衣等。\u001b[0m\n",
            "\n",
            "\u001b[1m> Finished chain.\u001b[0m\n",
            "我建议您可以选择休闲、简约风格的衣服，比如长款风衣、卫衣连衣裙、长款卫衣等。\n"
          ]
        }
      ]
    },
    {
      "cell_type": "code",
      "source": [
        "import json\n",
        "\n",
        "ORDER_1 = \"20230101ABC\"\n",
        "ORDER_2 = \"20230101EFG\"\n",
        "\n",
        "ORDER_1_DETAIL = {\n",
        "    \"order_number\": ORDER_1,\n",
        "    \"status\": \"已发货\",\n",
        "    \"shipping_date\" : \"2023-01-03\",\n",
        "    \"estimated_delivered_date\": \"2023-01-05\",\n",
        "}\n",
        "\n",
        "ORDER_2_DETAIL = {\n",
        "    \"order_number\": ORDER_2,\n",
        "    \"status\": \"未发货\",\n",
        "    \"shipping_date\" : None,\n",
        "    \"estimated_delivered_date\": None,\n",
        "}\n",
        "\n",
        "import re\n",
        "\n",
        "@tool(\"Search Order\")\n",
        "def search_order(input:str)->str:\n",
        "    \"\"\"一个帮助用户查询最新订单状态的工具，并且能处理以下情况：\n",
        "    1. 在用户没有输入订单号的时候，会询问用户订单号\n",
        "    2. 在用户输入的订单号查询不到的时候，会让用户二次确认订单号是否正确\"\"\"\n",
        "    pattern = r\"\\d+[A-Z]+\"\n",
        "    match = re.search(pattern, input)\n",
        "\n",
        "    order_number = input\n",
        "    if match:\n",
        "        order_number = match.group(0)\n",
        "    else:\n",
        "        return \"请问您的订单号是多少？\"\n",
        "    if order_number == ORDER_1:\n",
        "        return json.dumps(ORDER_1_DETAIL)\n",
        "    elif order_number == ORDER_2:\n",
        "        return json.dumps(ORDER_2_DETAIL)\n",
        "    else:\n",
        "        return f\"对不起，根据{input}没有找到您的订单\"\n",
        "\n",
        "tools = [search_order,recommend_product, faq]\n",
        "agent = initialize_agent(tools, llm=OpenAI(temperature=0), agent=\"zero-shot-react-description\", verbose=True)"
      ],
      "metadata": {
        "id": "CaODCHDu5dX5"
      },
      "execution_count": 27,
      "outputs": []
    },
    {
      "cell_type": "code",
      "source": [
        "question = \"我有一张订单，订单号是 2022ABCDE，一直没有收到，能麻烦帮我查一下吗？\"\n",
        "answer = agent.run(question)\n",
        "print(answer)"
      ],
      "metadata": {
        "colab": {
          "base_uri": "https://localhost:8080/"
        },
        "id": "S-mXUiTT5j8O",
        "outputId": "cf86fa49-daa7-4994-f60e-76cb5018d097"
      },
      "execution_count": 28,
      "outputs": [
        {
          "output_type": "stream",
          "name": "stdout",
          "text": [
            "\n",
            "\n",
            "\u001b[1m> Entering new AgentExecutor chain...\u001b[0m\n",
            "\u001b[32;1m\u001b[1;3m 我需要查询订单状态\n",
            "Action: Search Order\n",
            "Action Input: 2022ABCDE\u001b[0m\n",
            "Observation: \u001b[36;1m\u001b[1;3m对不起，根据2022ABCDE没有找到您的订单\u001b[0m\n",
            "Thought:\u001b[32;1m\u001b[1;3m 我需要再次确认订单号是否正确\n",
            "Action: Search Order\n",
            "Action Input: 2022ABCDE\u001b[0m\n",
            "Observation: \u001b[36;1m\u001b[1;3m对不起，根据2022ABCDE没有找到您的订单\u001b[0m\n",
            "Thought:\u001b[32;1m\u001b[1;3m 我现在知道最终答案\n",
            "Final Answer: 对不起，根据您提供的订单号2022ABCDE没有找到您的订单，请您再次确认订单号是否正确。\u001b[0m\n",
            "\n",
            "\u001b[1m> Finished chain.\u001b[0m\n",
            "对不起，根据您提供的订单号2022ABCDE没有找到您的订单，请您再次确认订单号是否正确。\n"
          ]
        }
      ]
    },
    {
      "cell_type": "code",
      "source": [
        "import json\n",
        "from langchain.chat_models import ChatOpenAI\n",
        "\n",
        "ORDER_1 = \"20230101ABC\"\n",
        "ORDER_2 = \"20230101EFG\"\n",
        "\n",
        "ORDER_1_DETAIL = {\n",
        "    \"order_number\": ORDER_1,\n",
        "    \"status\": \"已发货\",\n",
        "    \"shipping_date\" : \"2023-01-03\",\n",
        "    \"estimated_delivered_date\": \"2023-01-05\",\n",
        "}\n",
        "\n",
        "ORDER_2_DETAIL = {\n",
        "    \"order_number\": ORDER_2,\n",
        "    \"status\": \"未发货\",\n",
        "    \"shipping_date\" : None,\n",
        "    \"estimated_delivered_date\": None,\n",
        "}\n",
        "\n",
        "import re\n",
        "\n",
        "answer_order_info = PromptTemplate(\n",
        "    template=\"请把下面的订单信息回复给用户： \\n\\n {order}?\", input_variables=[\"order\"]\n",
        ")\n",
        "answer_order_llm = LLMChain(llm=ChatOpenAI(temperature=0),  prompt=answer_order_info)\n",
        "\n",
        "@tool(\"Search Order\", return_direct=True)\n",
        "def search_order(input:str)->str:\n",
        "    \"\"\"useful for when you need to answer questions about customers orders\"\"\"\n",
        "    pattern = r\"\\d+[A-Z]+\"\n",
        "    match = re.search(pattern, input)\n",
        "\n",
        "    order_number = input\n",
        "    if match:\n",
        "        order_number = match.group(0)\n",
        "    else:\n",
        "        return \"请问您的订单号是多少？\"\n",
        "    if order_number == ORDER_1:\n",
        "        return answer_order_llm.run(json.dumps(ORDER_1_DETAIL))\n",
        "    elif order_number == ORDER_2:\n",
        "        return answer_order_llm.run(json.dumps(ORDER_2_DETAIL))\n",
        "    else:\n",
        "        return f\"对不起，根据{input}没有找到您的订单\"\n",
        "\n",
        "from langchain.memory import ConversationBufferMemory\n",
        "from langchain.chat_models import ChatOpenAI\n",
        "\n",
        "tools = [search_order,recommend_product, faq]\n",
        "chatllm=ChatOpenAI(temperature=0)\n",
        "memory = ConversationBufferMemory(memory_key=\"chat_history\", return_messages=True)\n",
        "conversation_agent = initialize_agent(tools, chatllm,\n",
        "                                      agent=\"conversational-react-description\",\n",
        "                                      memory=memory, verbose=True)"
      ],
      "metadata": {
        "id": "rwHT2a5Y7c_-"
      },
      "execution_count": 30,
      "outputs": []
    },
    {
      "cell_type": "code",
      "source": [
        "question1 = \"我有一张订单，一直没有收到，能麻烦帮我查一下吗？\"\n",
        "answer1 = conversation_agent.run(question1)\n",
        "print(answer1)"
      ],
      "metadata": {
        "id": "eipATpsh9vem",
        "outputId": "3b95a57d-3497-4b07-e20d-b6ccf367e494",
        "colab": {
          "base_uri": "https://localhost:8080/"
        }
      },
      "execution_count": 31,
      "outputs": [
        {
          "output_type": "stream",
          "name": "stdout",
          "text": [
            "\n",
            "\n",
            "\u001b[1m> Entering new AgentExecutor chain...\u001b[0m\n",
            "\u001b[32;1m\u001b[1;3mThought: Do I need to use a tool? Yes\n",
            "Action: Search Order\n",
            "Action Input: 我有一张订单，一直没有收到，能麻烦帮我查一下吗？\u001b[0m\n",
            "Observation: \u001b[36;1m\u001b[1;3m请问您的订单号是多少？\u001b[0m\n",
            "\u001b[32;1m\u001b[1;3m\u001b[0m\n",
            "\n",
            "\u001b[1m> Finished chain.\u001b[0m\n",
            "请问您的订单号是多少？\n"
          ]
        }
      ]
    },
    {
      "cell_type": "code",
      "source": [
        "question2 = \"我的订单号是20230101ABC\"\n",
        "answer2 = conversation_agent.run(question2)\n",
        "print(answer2)"
      ],
      "metadata": {
        "id": "BqmNcOqs95HQ",
        "outputId": "4fdc9c9e-b269-495c-e2c2-1cb653d8b88f",
        "colab": {
          "base_uri": "https://localhost:8080/"
        }
      },
      "execution_count": 32,
      "outputs": [
        {
          "output_type": "stream",
          "name": "stdout",
          "text": [
            "\n",
            "\n",
            "\u001b[1m> Entering new AgentExecutor chain...\u001b[0m\n",
            "\u001b[32;1m\u001b[1;3mThought: Do I need to use a tool? Yes\n",
            "Action: Search Order\n",
            "Action Input: 20230101ABC\u001b[0m\n",
            "Observation: \u001b[36;1m\u001b[1;3m尊敬的用户，以下是您的订单信息：\n",
            "\n",
            "订单编号：20230101ABC\n",
            "订单状态：已发货\n",
            "发货日期：2023年1月3日\n",
            "预计送达日期：2023年1月5日\n",
            "\n",
            "如有任何问题，请随时与我们联系。感谢您的支持！\u001b[0m\n",
            "\u001b[32;1m\u001b[1;3m\u001b[0m\n",
            "\n",
            "\u001b[1m> Finished chain.\u001b[0m\n",
            "尊敬的用户，以下是您的订单信息：\n",
            "\n",
            "订单编号：20230101ABC\n",
            "订单状态：已发货\n",
            "发货日期：2023年1月3日\n",
            "预计送达日期：2023年1月5日\n",
            "\n",
            "如有任何问题，请随时与我们联系。感谢您的支持！\n"
          ]
        }
      ]
    },
    {
      "cell_type": "code",
      "source": [
        "question3 = \"你们的退货政策是怎么样的？\"\n",
        "answer3 = conversation_agent.run(question3)\n",
        "print(answer3)"
      ],
      "metadata": {
        "id": "FFyHzGdU-I8C",
        "outputId": "87566604-40d8-45b5-9482-713e6f1744ed",
        "colab": {
          "base_uri": "https://localhost:8080/",
          "height": 637
        }
      },
      "execution_count": 34,
      "outputs": [
        {
          "output_type": "stream",
          "name": "stdout",
          "text": [
            "\n",
            "\n",
            "\u001b[1m> Entering new AgentExecutor chain...\u001b[0m\n",
            "\u001b[32;1m\u001b[1;3mThought: Do I need to use a tool? Yes\n",
            "Action: FAQ\n",
            "Action Input: 退货政策\u001b[0m\n",
            "\n",
            "\u001b[1m> Entering new VectorDBQA chain...\u001b[0m\n",
            "\n",
            "\u001b[1m> Finished chain.\u001b[0m\n",
            "\n",
            "Observation: \u001b[38;5;200m\u001b[1;3m 自收到商品之日起7天内，如产品未使用、包装完好，您可以申请退货。某些特殊商品可能不支持退货，请在购买前查看商品详情页面的退货政策。\u001b[0m\n",
            "Thought:"
          ]
        },
        {
          "output_type": "error",
          "ename": "OutputParserException",
          "evalue": "ignored",
          "traceback": [
            "\u001b[0;31m---------------------------------------------------------------------------\u001b[0m",
            "\u001b[0;31mOutputParserException\u001b[0m                     Traceback (most recent call last)",
            "\u001b[0;32m<ipython-input-34-8ba61eeb4e12>\u001b[0m in \u001b[0;36m<cell line: 2>\u001b[0;34m()\u001b[0m\n\u001b[1;32m      1\u001b[0m \u001b[0mquestion3\u001b[0m \u001b[0;34m=\u001b[0m \u001b[0;34m\"你们的退货政策是怎么样的？\"\u001b[0m\u001b[0;34m\u001b[0m\u001b[0;34m\u001b[0m\u001b[0m\n\u001b[0;32m----> 2\u001b[0;31m \u001b[0manswer3\u001b[0m \u001b[0;34m=\u001b[0m \u001b[0mconversation_agent\u001b[0m\u001b[0;34m.\u001b[0m\u001b[0mrun\u001b[0m\u001b[0;34m(\u001b[0m\u001b[0mquestion3\u001b[0m\u001b[0;34m)\u001b[0m\u001b[0;34m\u001b[0m\u001b[0;34m\u001b[0m\u001b[0m\n\u001b[0m\u001b[1;32m      3\u001b[0m \u001b[0mprint\u001b[0m\u001b[0;34m(\u001b[0m\u001b[0manswer3\u001b[0m\u001b[0;34m)\u001b[0m\u001b[0;34m\u001b[0m\u001b[0;34m\u001b[0m\u001b[0m\n",
            "\u001b[0;32m/usr/local/lib/python3.10/dist-packages/langchain/chains/base.py\u001b[0m in \u001b[0;36mrun\u001b[0;34m(self, callbacks, tags, metadata, *args, **kwargs)\u001b[0m\n\u001b[1;32m    505\u001b[0m             \u001b[0;32mif\u001b[0m \u001b[0mlen\u001b[0m\u001b[0;34m(\u001b[0m\u001b[0margs\u001b[0m\u001b[0;34m)\u001b[0m \u001b[0;34m!=\u001b[0m \u001b[0;36m1\u001b[0m\u001b[0;34m:\u001b[0m\u001b[0;34m\u001b[0m\u001b[0;34m\u001b[0m\u001b[0m\n\u001b[1;32m    506\u001b[0m                 \u001b[0;32mraise\u001b[0m \u001b[0mValueError\u001b[0m\u001b[0;34m(\u001b[0m\u001b[0;34m\"`run` supports only one positional argument.\"\u001b[0m\u001b[0;34m)\u001b[0m\u001b[0;34m\u001b[0m\u001b[0;34m\u001b[0m\u001b[0m\n\u001b[0;32m--> 507\u001b[0;31m             return self(args[0], callbacks=callbacks, tags=tags, metadata=metadata)[\n\u001b[0m\u001b[1;32m    508\u001b[0m                 \u001b[0m_output_key\u001b[0m\u001b[0;34m\u001b[0m\u001b[0;34m\u001b[0m\u001b[0m\n\u001b[1;32m    509\u001b[0m             ]\n",
            "\u001b[0;32m/usr/local/lib/python3.10/dist-packages/langchain/chains/base.py\u001b[0m in \u001b[0;36m__call__\u001b[0;34m(self, inputs, return_only_outputs, callbacks, tags, metadata, run_name, include_run_info)\u001b[0m\n\u001b[1;32m    310\u001b[0m         \u001b[0;32mexcept\u001b[0m \u001b[0mBaseException\u001b[0m \u001b[0;32mas\u001b[0m \u001b[0me\u001b[0m\u001b[0;34m:\u001b[0m\u001b[0;34m\u001b[0m\u001b[0;34m\u001b[0m\u001b[0m\n\u001b[1;32m    311\u001b[0m             \u001b[0mrun_manager\u001b[0m\u001b[0;34m.\u001b[0m\u001b[0mon_chain_error\u001b[0m\u001b[0;34m(\u001b[0m\u001b[0me\u001b[0m\u001b[0;34m)\u001b[0m\u001b[0;34m\u001b[0m\u001b[0;34m\u001b[0m\u001b[0m\n\u001b[0;32m--> 312\u001b[0;31m             \u001b[0;32mraise\u001b[0m \u001b[0me\u001b[0m\u001b[0;34m\u001b[0m\u001b[0;34m\u001b[0m\u001b[0m\n\u001b[0m\u001b[1;32m    313\u001b[0m         \u001b[0mrun_manager\u001b[0m\u001b[0;34m.\u001b[0m\u001b[0mon_chain_end\u001b[0m\u001b[0;34m(\u001b[0m\u001b[0moutputs\u001b[0m\u001b[0;34m)\u001b[0m\u001b[0;34m\u001b[0m\u001b[0;34m\u001b[0m\u001b[0m\n\u001b[1;32m    314\u001b[0m         final_outputs: Dict[str, Any] = self.prep_outputs(\n",
            "\u001b[0;32m/usr/local/lib/python3.10/dist-packages/langchain/chains/base.py\u001b[0m in \u001b[0;36m__call__\u001b[0;34m(self, inputs, return_only_outputs, callbacks, tags, metadata, run_name, include_run_info)\u001b[0m\n\u001b[1;32m    304\u001b[0m         \u001b[0;32mtry\u001b[0m\u001b[0;34m:\u001b[0m\u001b[0;34m\u001b[0m\u001b[0;34m\u001b[0m\u001b[0m\n\u001b[1;32m    305\u001b[0m             outputs = (\n\u001b[0;32m--> 306\u001b[0;31m                 \u001b[0mself\u001b[0m\u001b[0;34m.\u001b[0m\u001b[0m_call\u001b[0m\u001b[0;34m(\u001b[0m\u001b[0minputs\u001b[0m\u001b[0;34m,\u001b[0m \u001b[0mrun_manager\u001b[0m\u001b[0;34m=\u001b[0m\u001b[0mrun_manager\u001b[0m\u001b[0;34m)\u001b[0m\u001b[0;34m\u001b[0m\u001b[0;34m\u001b[0m\u001b[0m\n\u001b[0m\u001b[1;32m    307\u001b[0m                 \u001b[0;32mif\u001b[0m \u001b[0mnew_arg_supported\u001b[0m\u001b[0;34m\u001b[0m\u001b[0;34m\u001b[0m\u001b[0m\n\u001b[1;32m    308\u001b[0m                 \u001b[0;32melse\u001b[0m \u001b[0mself\u001b[0m\u001b[0;34m.\u001b[0m\u001b[0m_call\u001b[0m\u001b[0;34m(\u001b[0m\u001b[0minputs\u001b[0m\u001b[0;34m)\u001b[0m\u001b[0;34m\u001b[0m\u001b[0;34m\u001b[0m\u001b[0m\n",
            "\u001b[0;32m/usr/local/lib/python3.10/dist-packages/langchain/agents/agent.py\u001b[0m in \u001b[0;36m_call\u001b[0;34m(self, inputs, run_manager)\u001b[0m\n\u001b[1;32m   1124\u001b[0m         \u001b[0;31m# We now enter the agent loop (until it returns something).\u001b[0m\u001b[0;34m\u001b[0m\u001b[0;34m\u001b[0m\u001b[0m\n\u001b[1;32m   1125\u001b[0m         \u001b[0;32mwhile\u001b[0m \u001b[0mself\u001b[0m\u001b[0;34m.\u001b[0m\u001b[0m_should_continue\u001b[0m\u001b[0;34m(\u001b[0m\u001b[0miterations\u001b[0m\u001b[0;34m,\u001b[0m \u001b[0mtime_elapsed\u001b[0m\u001b[0;34m)\u001b[0m\u001b[0;34m:\u001b[0m\u001b[0;34m\u001b[0m\u001b[0;34m\u001b[0m\u001b[0m\n\u001b[0;32m-> 1126\u001b[0;31m             next_step_output = self._take_next_step(\n\u001b[0m\u001b[1;32m   1127\u001b[0m                 \u001b[0mname_to_tool_map\u001b[0m\u001b[0;34m,\u001b[0m\u001b[0;34m\u001b[0m\u001b[0;34m\u001b[0m\u001b[0m\n\u001b[1;32m   1128\u001b[0m                 \u001b[0mcolor_mapping\u001b[0m\u001b[0;34m,\u001b[0m\u001b[0;34m\u001b[0m\u001b[0;34m\u001b[0m\u001b[0m\n",
            "\u001b[0;32m/usr/local/lib/python3.10/dist-packages/langchain/agents/agent.py\u001b[0m in \u001b[0;36m_take_next_step\u001b[0;34m(self, name_to_tool_map, color_mapping, inputs, intermediate_steps, run_manager)\u001b[0m\n\u001b[1;32m    932\u001b[0m                 \u001b[0mraise_error\u001b[0m \u001b[0;34m=\u001b[0m \u001b[0;32mFalse\u001b[0m\u001b[0;34m\u001b[0m\u001b[0;34m\u001b[0m\u001b[0m\n\u001b[1;32m    933\u001b[0m             \u001b[0;32mif\u001b[0m \u001b[0mraise_error\u001b[0m\u001b[0;34m:\u001b[0m\u001b[0;34m\u001b[0m\u001b[0;34m\u001b[0m\u001b[0m\n\u001b[0;32m--> 934\u001b[0;31m                 \u001b[0;32mraise\u001b[0m \u001b[0me\u001b[0m\u001b[0;34m\u001b[0m\u001b[0;34m\u001b[0m\u001b[0m\n\u001b[0m\u001b[1;32m    935\u001b[0m             \u001b[0mtext\u001b[0m \u001b[0;34m=\u001b[0m \u001b[0mstr\u001b[0m\u001b[0;34m(\u001b[0m\u001b[0me\u001b[0m\u001b[0;34m)\u001b[0m\u001b[0;34m\u001b[0m\u001b[0;34m\u001b[0m\u001b[0m\n\u001b[1;32m    936\u001b[0m             \u001b[0;32mif\u001b[0m \u001b[0misinstance\u001b[0m\u001b[0;34m(\u001b[0m\u001b[0mself\u001b[0m\u001b[0;34m.\u001b[0m\u001b[0mhandle_parsing_errors\u001b[0m\u001b[0;34m,\u001b[0m \u001b[0mbool\u001b[0m\u001b[0;34m)\u001b[0m\u001b[0;34m:\u001b[0m\u001b[0;34m\u001b[0m\u001b[0;34m\u001b[0m\u001b[0m\n",
            "\u001b[0;32m/usr/local/lib/python3.10/dist-packages/langchain/agents/agent.py\u001b[0m in \u001b[0;36m_take_next_step\u001b[0;34m(self, name_to_tool_map, color_mapping, inputs, intermediate_steps, run_manager)\u001b[0m\n\u001b[1;32m    921\u001b[0m \u001b[0;34m\u001b[0m\u001b[0m\n\u001b[1;32m    922\u001b[0m             \u001b[0;31m# Call the LLM to see what to do.\u001b[0m\u001b[0;34m\u001b[0m\u001b[0;34m\u001b[0m\u001b[0m\n\u001b[0;32m--> 923\u001b[0;31m             output = self.agent.plan(\n\u001b[0m\u001b[1;32m    924\u001b[0m                 \u001b[0mintermediate_steps\u001b[0m\u001b[0;34m,\u001b[0m\u001b[0;34m\u001b[0m\u001b[0;34m\u001b[0m\u001b[0m\n\u001b[1;32m    925\u001b[0m                 \u001b[0mcallbacks\u001b[0m\u001b[0;34m=\u001b[0m\u001b[0mrun_manager\u001b[0m\u001b[0;34m.\u001b[0m\u001b[0mget_child\u001b[0m\u001b[0;34m(\u001b[0m\u001b[0;34m)\u001b[0m \u001b[0;32mif\u001b[0m \u001b[0mrun_manager\u001b[0m \u001b[0;32melse\u001b[0m \u001b[0;32mNone\u001b[0m\u001b[0;34m,\u001b[0m\u001b[0;34m\u001b[0m\u001b[0;34m\u001b[0m\u001b[0m\n",
            "\u001b[0;32m/usr/local/lib/python3.10/dist-packages/langchain/agents/agent.py\u001b[0m in \u001b[0;36mplan\u001b[0;34m(self, intermediate_steps, callbacks, **kwargs)\u001b[0m\n\u001b[1;32m    535\u001b[0m         \u001b[0mfull_inputs\u001b[0m \u001b[0;34m=\u001b[0m \u001b[0mself\u001b[0m\u001b[0;34m.\u001b[0m\u001b[0mget_full_inputs\u001b[0m\u001b[0;34m(\u001b[0m\u001b[0mintermediate_steps\u001b[0m\u001b[0;34m,\u001b[0m \u001b[0;34m**\u001b[0m\u001b[0mkwargs\u001b[0m\u001b[0;34m)\u001b[0m\u001b[0;34m\u001b[0m\u001b[0;34m\u001b[0m\u001b[0m\n\u001b[1;32m    536\u001b[0m         \u001b[0mfull_output\u001b[0m \u001b[0;34m=\u001b[0m \u001b[0mself\u001b[0m\u001b[0;34m.\u001b[0m\u001b[0mllm_chain\u001b[0m\u001b[0;34m.\u001b[0m\u001b[0mpredict\u001b[0m\u001b[0;34m(\u001b[0m\u001b[0mcallbacks\u001b[0m\u001b[0;34m=\u001b[0m\u001b[0mcallbacks\u001b[0m\u001b[0;34m,\u001b[0m \u001b[0;34m**\u001b[0m\u001b[0mfull_inputs\u001b[0m\u001b[0;34m)\u001b[0m\u001b[0;34m\u001b[0m\u001b[0;34m\u001b[0m\u001b[0m\n\u001b[0;32m--> 537\u001b[0;31m         \u001b[0;32mreturn\u001b[0m \u001b[0mself\u001b[0m\u001b[0;34m.\u001b[0m\u001b[0moutput_parser\u001b[0m\u001b[0;34m.\u001b[0m\u001b[0mparse\u001b[0m\u001b[0;34m(\u001b[0m\u001b[0mfull_output\u001b[0m\u001b[0;34m)\u001b[0m\u001b[0;34m\u001b[0m\u001b[0;34m\u001b[0m\u001b[0m\n\u001b[0m\u001b[1;32m    538\u001b[0m \u001b[0;34m\u001b[0m\u001b[0m\n\u001b[1;32m    539\u001b[0m     async def aplan(\n",
            "\u001b[0;32m/usr/local/lib/python3.10/dist-packages/langchain/agents/conversational/output_parser.py\u001b[0m in \u001b[0;36mparse\u001b[0;34m(self, text)\u001b[0m\n\u001b[1;32m     24\u001b[0m         \u001b[0mmatch\u001b[0m \u001b[0;34m=\u001b[0m \u001b[0mre\u001b[0m\u001b[0;34m.\u001b[0m\u001b[0msearch\u001b[0m\u001b[0;34m(\u001b[0m\u001b[0mregex\u001b[0m\u001b[0;34m,\u001b[0m \u001b[0mtext\u001b[0m\u001b[0;34m)\u001b[0m\u001b[0;34m\u001b[0m\u001b[0;34m\u001b[0m\u001b[0m\n\u001b[1;32m     25\u001b[0m         \u001b[0;32mif\u001b[0m \u001b[0;32mnot\u001b[0m \u001b[0mmatch\u001b[0m\u001b[0;34m:\u001b[0m\u001b[0;34m\u001b[0m\u001b[0;34m\u001b[0m\u001b[0m\n\u001b[0;32m---> 26\u001b[0;31m             \u001b[0;32mraise\u001b[0m \u001b[0mOutputParserException\u001b[0m\u001b[0;34m(\u001b[0m\u001b[0;34mf\"Could not parse LLM output: `{text}`\"\u001b[0m\u001b[0;34m)\u001b[0m\u001b[0;34m\u001b[0m\u001b[0;34m\u001b[0m\u001b[0m\n\u001b[0m\u001b[1;32m     27\u001b[0m         \u001b[0maction\u001b[0m \u001b[0;34m=\u001b[0m \u001b[0mmatch\u001b[0m\u001b[0;34m.\u001b[0m\u001b[0mgroup\u001b[0m\u001b[0;34m(\u001b[0m\u001b[0;36m1\u001b[0m\u001b[0;34m)\u001b[0m\u001b[0;34m\u001b[0m\u001b[0;34m\u001b[0m\u001b[0m\n\u001b[1;32m     28\u001b[0m         \u001b[0maction_input\u001b[0m \u001b[0;34m=\u001b[0m \u001b[0mmatch\u001b[0m\u001b[0;34m.\u001b[0m\u001b[0mgroup\u001b[0m\u001b[0;34m(\u001b[0m\u001b[0;36m2\u001b[0m\u001b[0;34m)\u001b[0m\u001b[0;34m\u001b[0m\u001b[0;34m\u001b[0m\u001b[0m\n",
            "\u001b[0;31mOutputParserException\u001b[0m: Could not parse LLM output: `Do I need to use a tool? No`"
          ]
        }
      ]
    }
  ]
}
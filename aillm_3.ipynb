{
  "nbformat": 4,
  "nbformat_minor": 0,
  "metadata": {
    "colab": {
      "provenance": [],
      "authorship_tag": "ABX9TyOcgnSwXq4dHKxAPkbZ751i",
      "include_colab_link": true
    },
    "kernelspec": {
      "name": "python3",
      "display_name": "Python 3"
    },
    "language_info": {
      "name": "python"
    }
  },
  "cells": [
    {
      "cell_type": "markdown",
      "metadata": {
        "id": "view-in-github",
        "colab_type": "text"
      },
      "source": [
        "<a href=\"https://colab.research.google.com/github/HUJameson/Colab/blob/main/aillm_3.ipynb\" target=\"_parent\"><img src=\"https://colab.research.google.com/assets/colab-badge.svg\" alt=\"Open In Colab\"/></a>"
      ]
    },
    {
      "cell_type": "code",
      "source": [
        "from google.colab import drive\n",
        "drive.mount('/content/drive')\n",
        "\n",
        "import os\n",
        "os.chdir(\"/content/drive/My Drive/Colab Notebooks\")"
      ],
      "metadata": {
        "colab": {
          "base_uri": "https://localhost:8080/"
        },
        "id": "qWCopYneI1ZX",
        "outputId": "a6af9f72-90d8-4460-b1fc-145d8076c96d"
      },
      "execution_count": 1,
      "outputs": [
        {
          "output_type": "stream",
          "name": "stdout",
          "text": [
            "Mounted at /content/drive\n"
          ]
        }
      ]
    },
    {
      "cell_type": "code",
      "execution_count": 3,
      "metadata": {
        "colab": {
          "base_uri": "https://localhost:8080/"
        },
        "id": "l1duRXiMnd5k",
        "outputId": "98c02e68-f60a-4e41-b5ad-8a50a3ddf7db"
      },
      "outputs": [
        {
          "output_type": "stream",
          "name": "stdout",
          "text": [
            "10640\n",
            "                                                text  target      title  \\\n",
            "0  I was wondering if anyone out there could enli...       7  rec.autos   \n",
            "1  \\nIt depends on your priorities.  A lot of peo...       7  rec.autos   \n",
            "2  an excellent automatic can be found in the sub...       7  rec.autos   \n",
            "3  : Ford and his automobile.  I need information...       7  rec.autos   \n",
            "4  \\nYo! Watch the attributions--I didn't say tha...       7  rec.autos   \n",
            "\n",
            "   n_tokens                                          embedding  \n",
            "0       121  [-0.0391300804913044, 0.013502633199095726, -0...  \n",
            "1       108  [-0.0011249205563217402, -0.00376517535187304,...  \n",
            "2       476  [-0.018259447067975998, -0.008410007692873478,...  \n",
            "3        86  [-0.012589422054588795, 0.006539034191519022, ...  \n",
            "4       130  [-0.0006192282889969647, -0.011226896196603775...  \n",
            "0         7\n",
            "1         7\n",
            "2         7\n",
            "3         7\n",
            "4         7\n",
            "         ..\n",
            "10635    11\n",
            "10636    11\n",
            "10637    11\n",
            "10638    11\n",
            "10639    11\n",
            "Name: target, Length: 10640, dtype: int64\n",
            "              precision    recall  f1-score   support\n",
            "\n",
            "           0       0.55      0.56      0.55        79\n",
            "           1       0.66      0.72      0.69        98\n",
            "           2       0.69      0.71      0.70       119\n",
            "           3       0.64      0.66      0.65       114\n",
            "           4       0.81      0.63      0.71       114\n",
            "           5       0.85      0.84      0.85       108\n",
            "           6       0.79      0.85      0.82       109\n",
            "           7       0.81      0.80      0.81       106\n",
            "           8       0.74      0.72      0.73       104\n",
            "           9       0.73      0.93      0.82       108\n",
            "          10       0.91      0.86      0.88        91\n",
            "          11       0.87      0.68      0.76       106\n",
            "          12       0.68      0.72      0.70       102\n",
            "          13       0.85      0.84      0.84       104\n",
            "          14       0.71      0.81      0.76        95\n",
            "          15       0.64      0.90      0.75        97\n",
            "          16       0.59      0.81      0.69        91\n",
            "          17       0.83      0.83      0.83       100\n",
            "          18       0.68      0.52      0.59        89\n",
            "          19       1.00      0.02      0.03        66\n",
            "\n",
            "    accuracy                           0.73      2000\n",
            "   macro avg       0.75      0.72      0.71      2000\n",
            "weighted avg       0.75      0.73      0.72      2000\n",
            "\n"
          ]
        }
      ],
      "source": [
        "from sklearn.ensemble import RandomForestClassifier\n",
        "from sklearn.model_selection import train_test_split\n",
        "from sklearn.metrics import classification_report, accuracy_score\n",
        "import pandas as pd\n",
        "\n",
        "training_data = pd.read_parquet(\"data/20_newsgroup_with_embedding.parquet\")\n",
        "print(len(training_data))\n",
        "print(training_data.head())\n",
        "print(training_data[\"target\"])\n",
        "\n",
        "df =  training_data.sample(10000, random_state=42)\n",
        "\n",
        "X_train, X_test, y_train, y_test = train_test_split(\n",
        "    list(df.embedding.values), df.target, test_size=0.2, random_state=42\n",
        ")\n",
        "\n",
        "clf = RandomForestClassifier(n_estimators=300)\n",
        "clf.fit(X_train, y_train)\n",
        "preds = clf.predict(X_test)\n",
        "probas = clf.predict_proba(X_test)\n",
        "\n",
        "report = classification_report(y_test, preds)\n",
        "print(report)"
      ]
    },
    {
      "cell_type": "code",
      "source": [
        "from sklearn.linear_model import LogisticRegression\n",
        "\n",
        "df =  training_data\n",
        "\n",
        "X_train, X_test, y_train, y_test = train_test_split(\n",
        "    list(df.embedding.values), df.target, test_size=0.2, random_state=42\n",
        ")\n",
        "\n",
        "clf = LogisticRegression()\n",
        "clf.fit(X_train, y_train)\n",
        "preds = clf.predict(X_test)\n",
        "probas = clf.predict_proba(X_test)\n",
        "\n",
        "report = classification_report(y_test, preds)\n",
        "print(report)"
      ],
      "metadata": {
        "colab": {
          "base_uri": "https://localhost:8080/"
        },
        "id": "jE2e4QXytpNU",
        "outputId": "8f29b03c-2dce-4380-b165-fb0c6a57d5c3"
      },
      "execution_count": 4,
      "outputs": [
        {
          "output_type": "stream",
          "name": "stdout",
          "text": [
            "              precision    recall  f1-score   support\n",
            "\n",
            "           0       0.55      0.63      0.59        89\n",
            "           1       0.77      0.73      0.75       107\n",
            "           2       0.72      0.75      0.73       114\n",
            "           3       0.70      0.73      0.72       121\n",
            "           4       0.76      0.66      0.71       111\n",
            "           5       0.88      0.84      0.86       111\n",
            "           6       0.75      0.79      0.77       132\n",
            "           7       0.84      0.86      0.85       119\n",
            "           8       0.75      0.81      0.78       104\n",
            "           9       0.92      0.84      0.88       135\n",
            "          10       0.94      0.89      0.91       117\n",
            "          11       0.88      0.77      0.82       102\n",
            "          12       0.73      0.73      0.73       107\n",
            "          13       0.86      0.89      0.88       118\n",
            "          14       0.83      0.88      0.85       104\n",
            "          15       0.70      0.86      0.77       111\n",
            "          16       0.73      0.81      0.77        91\n",
            "          17       0.82      0.84      0.83        89\n",
            "          18       0.50      0.73      0.59        71\n",
            "          19       0.89      0.11      0.19        75\n",
            "\n",
            "    accuracy                           0.77      2128\n",
            "   macro avg       0.77      0.76      0.75      2128\n",
            "weighted avg       0.78      0.77      0.76      2128\n",
            "\n"
          ]
        },
        {
          "output_type": "stream",
          "name": "stderr",
          "text": [
            "/usr/local/lib/python3.10/dist-packages/sklearn/linear_model/_logistic.py:458: ConvergenceWarning: lbfgs failed to converge (status=1):\n",
            "STOP: TOTAL NO. of ITERATIONS REACHED LIMIT.\n",
            "\n",
            "Increase the number of iterations (max_iter) or scale the data as shown in:\n",
            "    https://scikit-learn.org/stable/modules/preprocessing.html\n",
            "Please also refer to the documentation for alternative solver options:\n",
            "    https://scikit-learn.org/stable/modules/linear_model.html#logistic-regression\n",
            "  n_iter_i = _check_optimize_result(\n"
          ]
        }
      ]
    },
    {
      "cell_type": "code",
      "source": [
        "from sklearn.tree import DecisionTreeClassifier\n",
        "from sklearn.ensemble import  AdaBoostClassifier\n",
        "\n",
        "df =  training_data\n",
        "n_estimators=200\n",
        "\n",
        "X_train, X_test, y_train, y_test = train_test_split(\n",
        "    list(df.embedding.values), df.target, test_size=0.2, random_state=42\n",
        ")\n",
        "\n",
        "#dt_stump = DecisionTreeClassifier(max_depth=1,min_samples_leaf=1)\n",
        "#dt_stump.fit(X_train, y_train)\n",
        "dt_stump = LogisticRegression()\n",
        "ada = AdaBoostClassifier(estimator=dt_stump,n_estimators=n_estimators)\n",
        "ada.fit(X_train,  y_train)\n",
        "preds = ada.predict(X_test)\n",
        "probas = ada.predict_proba(X_test)\n",
        "\n",
        "report = classification_report(y_test, preds)\n",
        "print(report)"
      ],
      "metadata": {
        "colab": {
          "base_uri": "https://localhost:8080/"
        },
        "id": "QxeiuMcBLO77",
        "outputId": "fba0f3f4-54f7-4ecf-f891-55cebd9dfe32"
      },
      "execution_count": 7,
      "outputs": [
        {
          "output_type": "stream",
          "name": "stdout",
          "text": [
            "              precision    recall  f1-score   support\n",
            "\n",
            "           0       0.87      0.22      0.36        89\n",
            "           1       0.64      0.71      0.68       107\n",
            "           2       0.78      0.64      0.71       114\n",
            "           3       0.63      0.65      0.64       121\n",
            "           4       0.72      0.59      0.65       111\n",
            "           5       0.97      0.77      0.85       111\n",
            "           6       0.90      0.58      0.71       132\n",
            "           7       0.98      0.67      0.80       119\n",
            "           8       0.34      0.91      0.50       104\n",
            "           9       0.96      0.77      0.86       135\n",
            "          10       0.94      0.81      0.87       117\n",
            "          11       0.91      0.69      0.78       102\n",
            "          12       0.45      0.84      0.59       107\n",
            "          13       0.76      0.86      0.80       118\n",
            "          14       0.65      0.87      0.74       104\n",
            "          15       0.54      0.87      0.67       111\n",
            "          16       0.59      0.74      0.66        91\n",
            "          17       0.94      0.73      0.82        89\n",
            "          18       0.81      0.30      0.43        71\n",
            "          19       0.00      0.00      0.00        75\n",
            "\n",
            "    accuracy                           0.68      2128\n",
            "   macro avg       0.72      0.66      0.66      2128\n",
            "weighted avg       0.73      0.68      0.68      2128\n",
            "\n"
          ]
        },
        {
          "output_type": "stream",
          "name": "stderr",
          "text": [
            "/usr/local/lib/python3.10/dist-packages/sklearn/metrics/_classification.py:1344: UndefinedMetricWarning: Precision and F-score are ill-defined and being set to 0.0 in labels with no predicted samples. Use `zero_division` parameter to control this behavior.\n",
            "  _warn_prf(average, modifier, msg_start, len(result))\n",
            "/usr/local/lib/python3.10/dist-packages/sklearn/metrics/_classification.py:1344: UndefinedMetricWarning: Precision and F-score are ill-defined and being set to 0.0 in labels with no predicted samples. Use `zero_division` parameter to control this behavior.\n",
            "  _warn_prf(average, modifier, msg_start, len(result))\n",
            "/usr/local/lib/python3.10/dist-packages/sklearn/metrics/_classification.py:1344: UndefinedMetricWarning: Precision and F-score are ill-defined and being set to 0.0 in labels with no predicted samples. Use `zero_division` parameter to control this behavior.\n",
            "  _warn_prf(average, modifier, msg_start, len(result))\n"
          ]
        }
      ]
    }
  ]
}
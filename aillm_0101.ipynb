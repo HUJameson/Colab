{
  "nbformat": 4,
  "nbformat_minor": 0,
  "metadata": {
    "colab": {
      "provenance": [],
      "authorship_tag": "ABX9TyM4Yz2yKhNPEnI7tC3MoqKd",
      "include_colab_link": true
    },
    "kernelspec": {
      "name": "python3",
      "display_name": "Python 3"
    },
    "language_info": {
      "name": "python"
    }
  },
  "cells": [
    {
      "cell_type": "markdown",
      "metadata": {
        "id": "view-in-github",
        "colab_type": "text"
      },
      "source": [
        "<a href=\"https://colab.research.google.com/github/HUJameson/Colab/blob/main/aillm_0101.ipynb\" target=\"_parent\"><img src=\"https://colab.research.google.com/assets/colab-badge.svg\" alt=\"Open In Colab\"/></a>"
      ]
    },
    {
      "cell_type": "code",
      "execution_count": null,
      "metadata": {
        "id": "NoKJNWN-t4Sq"
      },
      "outputs": [],
      "source": [
        "!pip install openai"
      ]
    },
    {
      "cell_type": "code",
      "source": [
        "from google.colab import drive\n",
        "drive.mount('/content/drive')\n",
        "\n",
        "import os\n",
        "os.chdir(\"/content/drive/My Drive/Colab Notebooks\")"
      ],
      "metadata": {
        "colab": {
          "base_uri": "https://localhost:8080/"
        },
        "id": "G8cop0CSfTBO",
        "outputId": "a1eb8ec4-fb50-439e-c34f-afb800ac1ec2"
      },
      "execution_count": null,
      "outputs": [
        {
          "output_type": "stream",
          "name": "stdout",
          "text": [
            "Mounted at /content/drive\n"
          ]
        }
      ]
    },
    {
      "cell_type": "code",
      "source": [
        "import openai\n",
        "from sk_utils import read_sk\n",
        "openai_sk = read_sk()\n",
        "%env OPENAI_API_KEY=$openai_sk\n"
      ],
      "metadata": {
        "id": "QokwSveafIDj"
      },
      "execution_count": null,
      "outputs": []
    },
    {
      "cell_type": "code",
      "source": [
        "openai.Model.list()"
      ],
      "metadata": {
        "id": "Kimo9DVkYI-A"
      },
      "execution_count": null,
      "outputs": []
    },
    {
      "cell_type": "code",
      "source": [
        "\n",
        "COMPLETION_MODEL = \"text-davinci-003\"\n",
        "\n",
        "prompt = \"\"\"\n",
        "Consideration product : 工厂现货PVC充气青蛙夜市地摊热卖充气玩具发光蛙儿童水上玩具\n",
        "\n",
        "1. Compose human readable product title used on Amazon in english within 20 words.\n",
        "2. Write 5 selling points for the products in Amazon.\n",
        "3. Evaluate a price range for this product in U.S.\n",
        "\n",
        "Output the result in json format with three properties called title, selling_points and price_range\n",
        "\"\"\"\n",
        "\n",
        "def get_response(prompt):\n",
        "    completions = openai.Completion.create (\n",
        "        engine=COMPLETION_MODEL,\n",
        "        prompt=prompt,\n",
        "        max_tokens=512,\n",
        "        n=1,\n",
        "        stop=None,\n",
        "        temperature=0.0,\n",
        "    )\n",
        "    message = completions.choices[0].text\n",
        "    return message\n",
        "\n",
        "print(get_response(prompt))"
      ],
      "metadata": {
        "id": "DFoAq65yuS3I"
      },
      "execution_count": null,
      "outputs": []
    },
    {
      "cell_type": "code",
      "source": [
        "import openai\n",
        "\n",
        "COMPLETION_MODEL = \"gpt-3.5-turbo\"\n",
        "#COMPLETION_MODEL = \"gpt-4\"\n",
        "\n",
        "prompt = \"\"\"\n",
        "Consideration product : 工厂现货PVC充气青蛙夜市地摊热卖充气玩具发光蛙儿童水上玩具\n",
        "\n",
        "1. Compose human readable product title used on Amazon in english within 20 words.\n",
        "2. Write 5 selling points for the products in Amazon.\n",
        "3. Evaluate a price range for this product in U.S.\n",
        "\n",
        "Output the result in json format with three properties called title, selling_points and price_range\n",
        "\"\"\"\n",
        "\n",
        "def get_response(prompt):\n",
        "    completion = openai.ChatCompletion.create(\n",
        "        model = COMPLETION_MODEL,\n",
        "        messages = [\n",
        "            {'role': 'user', 'content': prompt}\n",
        "        ],\n",
        "        temperature = 0\n",
        "    )\n",
        "    message = completion['choices'][0]['message']['content']\n",
        "    return message\n",
        "\n",
        "print(get_response(prompt))\n"
      ],
      "metadata": {
        "id": "GmjdgFYJqVHn"
      },
      "execution_count": null,
      "outputs": []
    },
    {
      "cell_type": "code",
      "source": [
        "prompt = \"\"\"\n",
        "Man Utd must win trophies, says Ten Hag ahead of League Cup final\n",
        "\n",
        "请将上面这句话的人名提取出来，并用json的方式展示出来\n",
        "\"\"\"\n",
        "\n",
        "print(get_response(prompt))"
      ],
      "metadata": {
        "id": "9uV1cdc8bISM"
      },
      "execution_count": null,
      "outputs": []
    }
  ]
}
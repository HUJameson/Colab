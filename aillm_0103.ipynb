{
  "nbformat": 4,
  "nbformat_minor": 0,
  "metadata": {
    "colab": {
      "provenance": [],
      "authorship_tag": "ABX9TyP6wP7pFecex417rhNR5fxw",
      "include_colab_link": true
    },
    "kernelspec": {
      "name": "python3",
      "display_name": "Python 3"
    },
    "language_info": {
      "name": "python"
    }
  },
  "cells": [
    {
      "cell_type": "markdown",
      "metadata": {
        "id": "view-in-github",
        "colab_type": "text"
      },
      "source": [
        "<a href=\"https://colab.research.google.com/github/HUJameson/Colab/blob/main/aillm_0103.ipynb\" target=\"_parent\"><img src=\"https://colab.research.google.com/assets/colab-badge.svg\" alt=\"Open In Colab\"/></a>"
      ]
    },
    {
      "cell_type": "code",
      "source": [
        "!pip install openai"
      ],
      "metadata": {
        "id": "5ffrHUBIW18d"
      },
      "execution_count": null,
      "outputs": []
    },
    {
      "cell_type": "code",
      "source": [
        "from google.colab import drive\n",
        "drive.mount('/content/drive')\n",
        "\n",
        "import os\n",
        "os.chdir(\"/content/drive/My Drive/Colab Notebooks\")"
      ],
      "metadata": {
        "id": "-gpiAeubWq1C"
      },
      "execution_count": null,
      "outputs": []
    },
    {
      "cell_type": "code",
      "source": [
        "import openai\n",
        "from sk_utils import read_sk\n",
        "openai_sk = read_sk()\n",
        "%env OPENAI_API_KEY=$openai_sk"
      ],
      "metadata": {
        "id": "GtqCw5exW0Wj"
      },
      "execution_count": null,
      "outputs": []
    },
    {
      "cell_type": "code",
      "execution_count": null,
      "metadata": {
        "id": "0ZPI4KJ3WjY3"
      },
      "outputs": [],
      "source": [
        "\n",
        "COMPLETION_MODEL = \"text-davinci-003\"\n",
        "\n",
        "prompt = '请你用朋友的语气回复给到客户，并称他为“亲”，他的订单已经发货在路上了，预计在3天之内会送达，订单号2021AEDG，我们很抱歉因为天气的原因物流时间比原来长，感谢他选购我们的商品。'\n",
        "\n",
        "def get_response(prompt, temperature = 1.0, stop = None):\n",
        "    completions = openai.Completion.create (\n",
        "        engine=COMPLETION_MODEL,\n",
        "        prompt=prompt,\n",
        "        max_tokens=1024,\n",
        "        n=1,\n",
        "        stop=stop,\n",
        "        temperature=temperature,\n",
        "    )\n",
        "    message = completions.choices[0].text\n",
        "    return message\n",
        "\n",
        "print(get_response(prompt))"
      ]
    },
    {
      "cell_type": "code",
      "source": [
        "print(get_response(prompt))"
      ],
      "metadata": {
        "id": "XsSUddFEXBgN"
      },
      "execution_count": null,
      "outputs": []
    },
    {
      "cell_type": "code",
      "source": [
        "print(get_response(prompt, 0.0))\n",
        "print(get_response(prompt, 0.0))"
      ],
      "metadata": {
        "id": "jkT5_iIUXGIl"
      },
      "execution_count": null,
      "outputs": []
    },
    {
      "cell_type": "code",
      "source": [
        "print(get_response(prompt, 1.5))\n",
        "print(get_response(prompt, 1.5))"
      ],
      "metadata": {
        "id": "Q0dNv1AMXHMK"
      },
      "execution_count": null,
      "outputs": []
    },
    {
      "cell_type": "code",
      "source": [
        "print(get_response(prompt, 0.0, \"，\"))"
      ],
      "metadata": {
        "id": "c96G-UAgXQ52"
      },
      "execution_count": null,
      "outputs": []
    },
    {
      "cell_type": "code",
      "source": [
        "question =  \"\"\"\n",
        "Q : 鱼香肉丝怎么做？\n",
        "A :\n",
        "\"\"\"\n",
        "print(get_response(question))"
      ],
      "metadata": {
        "id": "N38BujONXYEd"
      },
      "execution_count": null,
      "outputs": []
    },
    {
      "cell_type": "code",
      "source": [
        "question =  \"\"\"\n",
        "Q : 鱼香肉丝怎么做？\n",
        "A :\n",
        "1. 肉丝香料：肉丝2斤，生抽1勺，老抽1勺，料酒1勺，白糖1勺，胡椒粉适量，盐适量。\n",
        "2. 鱼香调料：洋葱1/2个，蒜头2瓣，葱花少许，花椒油2勺，热油1勺，酱油2勺，醋2勺，料酒2勺，糖1勺，蚝油1勺，白胡椒粉少许。\n",
        "3. 把肉丝卤好，起锅时加入肉丝香料，炒匀，待肉丝变色。\n",
        "4. 将鱼香调料加入，继续翻炒，直至肉丝出汁，即可。\n",
        "\n",
        "Q : 那蚝油牛肉呢？\n",
        "A :\n",
        "\"\"\"\n",
        "print(get_response(question))"
      ],
      "metadata": {
        "id": "PBM-ikukXcXx"
      },
      "execution_count": null,
      "outputs": []
    },
    {
      "cell_type": "code",
      "source": [
        "import openai\n",
        "\n",
        "def ask_gpt3(prompt):\n",
        "    response = openai.Completion.create(\n",
        "        engine=\"text-davinci-003\",\n",
        "        prompt=prompt,\n",
        "        max_tokens=512,\n",
        "        n=1,\n",
        "        stop=None,\n",
        "        temperature=0.5,\n",
        "    )\n",
        "\n",
        "    message = response.choices[0].text.strip()\n",
        "    return message\n",
        "\n",
        "print(\"你好，我是一个聊天机器人，请你提出你的问题吧?\")\n",
        "\n",
        "questions = []\n",
        "answers = []\n",
        "\n",
        "def generate_prompt(prompt, questions, answers):\n",
        "    num = len(answers)\n",
        "    for i in range(num):\n",
        "        prompt += \"\\n Q : \" + questions[i]\n",
        "        prompt += \"\\n A : \" + answers[i]\n",
        "    prompt += \"\\n Q : \" + questions[num] + \"\\n A : \"\n",
        "    return prompt\n",
        "\n",
        "while True:\n",
        "    user_input = input(\"> \")\n",
        "    questions.append(user_input)\n",
        "    if user_input.lower() in [\"bye\", \"goodbye\", \"exit\"]:\n",
        "        print(\"Goodbye!\")\n",
        "        break\n",
        "\n",
        "    prompt = generate_prompt(\"\", questions, answers)\n",
        "\n",
        "    answer = ask_gpt3(prompt)\n",
        "    print(answer)\n",
        "    answers.append(answer)"
      ],
      "metadata": {
        "id": "Di5Bwls4XkZl"
      },
      "execution_count": null,
      "outputs": []
    },
    {
      "cell_type": "code",
      "source": [
        "prompts = \"\"\"判断一下用户的评论情感上是正面的还是负面的\n",
        "评论：买的银色版真的很好看，一天就到了，晚上就开始拿起来完系统很丝滑流畅，做工扎实，手感细腻，很精致哦苹果一如既往的好品质\n",
        "情感：正面\n",
        "\n",
        "评论：随意降价，不予价保，服务态度差\n",
        "情感：负面\n",
        "\"\"\"\n",
        "\n",
        "good_case = prompts + \"\"\"\n",
        "评论：外形外观：苹果审美一直很好，金色非常漂亮\n",
        "拍照效果：14pro升级的4800万像素真的是没的说，太好了，\n",
        "运行速度：苹果的反应速度好，用上三五年也不会卡顿的，之前的7P用到现在也不卡\n",
        "其他特色：14pro的磨砂金真的太好看了，不太高调，也不至于没有特点，非常耐看，很好的\n",
        "情感：\n",
        "\"\"\"\n",
        "\n",
        "print(get_response(good_case))"
      ],
      "metadata": {
        "id": "UO-RzM9_XrhU"
      },
      "execution_count": null,
      "outputs": []
    },
    {
      "cell_type": "code",
      "source": [
        "bad_case = prompts + \"\"\"\n",
        "评论：信号不好电池也不耐电不推荐购买\n",
        "情感\n",
        "\"\"\"\n",
        "\n",
        "print(get_response(bad_case))"
      ],
      "metadata": {
        "id": "dPEXZt6HXu54"
      },
      "execution_count": null,
      "outputs": []
    }
  ]
}
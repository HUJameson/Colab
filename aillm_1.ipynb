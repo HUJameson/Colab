{
  "nbformat": 4,
  "nbformat_minor": 0,
  "metadata": {
    "colab": {
      "provenance": [],
      "authorship_tag": "ABX9TyOMONFzRn5iex/h2C1FQpoX",
      "include_colab_link": true
    },
    "kernelspec": {
      "name": "python3",
      "display_name": "Python 3"
    },
    "language_info": {
      "name": "python"
    }
  },
  "cells": [
    {
      "cell_type": "markdown",
      "metadata": {
        "id": "view-in-github",
        "colab_type": "text"
      },
      "source": [
        "<a href=\"https://colab.research.google.com/github/HUJameson/Colab/blob/main/aillm_1.ipynb\" target=\"_parent\"><img src=\"https://colab.research.google.com/assets/colab-badge.svg\" alt=\"Open In Colab\"/></a>"
      ]
    },
    {
      "cell_type": "code",
      "execution_count": 1,
      "metadata": {
        "colab": {
          "base_uri": "https://localhost:8080/"
        },
        "id": "NoKJNWN-t4Sq",
        "outputId": "e1ea5b0d-e4c0-4e41-9b62-6d1487ce4bab"
      },
      "outputs": [
        {
          "output_type": "stream",
          "name": "stdout",
          "text": [
            "Collecting openai\n",
            "  Downloading openai-0.28.0-py3-none-any.whl (76 kB)\n",
            "\u001b[?25l     \u001b[90m━━━━━━━━━━━━━━━━━━━━━━━━━━━━━━━━━━━━━━━━\u001b[0m \u001b[32m0.0/76.5 kB\u001b[0m \u001b[31m?\u001b[0m eta \u001b[36m-:--:--\u001b[0m\r\u001b[2K     \u001b[91m━━━━━━━━━━━━━━━━━━━━━━━━━━━━━━━━━━━━━\u001b[0m\u001b[90m╺\u001b[0m\u001b[90m━━\u001b[0m \u001b[32m71.7/76.5 kB\u001b[0m \u001b[31m2.2 MB/s\u001b[0m eta \u001b[36m0:00:01\u001b[0m\r\u001b[2K     \u001b[90m━━━━━━━━━━━━━━━━━━━━━━━━━━━━━━━━━━━━━━━━\u001b[0m \u001b[32m76.5/76.5 kB\u001b[0m \u001b[31m1.8 MB/s\u001b[0m eta \u001b[36m0:00:00\u001b[0m\n",
            "\u001b[?25hRequirement already satisfied: requests>=2.20 in /usr/local/lib/python3.10/dist-packages (from openai) (2.31.0)\n",
            "Requirement already satisfied: tqdm in /usr/local/lib/python3.10/dist-packages (from openai) (4.66.1)\n",
            "Requirement already satisfied: aiohttp in /usr/local/lib/python3.10/dist-packages (from openai) (3.8.5)\n",
            "Requirement already satisfied: charset-normalizer<4,>=2 in /usr/local/lib/python3.10/dist-packages (from requests>=2.20->openai) (3.2.0)\n",
            "Requirement already satisfied: idna<4,>=2.5 in /usr/local/lib/python3.10/dist-packages (from requests>=2.20->openai) (3.4)\n",
            "Requirement already satisfied: urllib3<3,>=1.21.1 in /usr/local/lib/python3.10/dist-packages (from requests>=2.20->openai) (2.0.4)\n",
            "Requirement already satisfied: certifi>=2017.4.17 in /usr/local/lib/python3.10/dist-packages (from requests>=2.20->openai) (2023.7.22)\n",
            "Requirement already satisfied: attrs>=17.3.0 in /usr/local/lib/python3.10/dist-packages (from aiohttp->openai) (23.1.0)\n",
            "Requirement already satisfied: multidict<7.0,>=4.5 in /usr/local/lib/python3.10/dist-packages (from aiohttp->openai) (6.0.4)\n",
            "Requirement already satisfied: async-timeout<5.0,>=4.0.0a3 in /usr/local/lib/python3.10/dist-packages (from aiohttp->openai) (4.0.3)\n",
            "Requirement already satisfied: yarl<2.0,>=1.0 in /usr/local/lib/python3.10/dist-packages (from aiohttp->openai) (1.9.2)\n",
            "Requirement already satisfied: frozenlist>=1.1.1 in /usr/local/lib/python3.10/dist-packages (from aiohttp->openai) (1.4.0)\n",
            "Requirement already satisfied: aiosignal>=1.1.2 in /usr/local/lib/python3.10/dist-packages (from aiohttp->openai) (1.3.1)\n",
            "Installing collected packages: openai\n",
            "Successfully installed openai-0.28.0\n"
          ]
        }
      ],
      "source": [
        "!pip install openai"
      ]
    },
    {
      "cell_type": "code",
      "source": [
        "from google.colab import drive\n",
        "drive.mount('/content/drive')\n",
        "\n",
        "import os\n",
        "os.chdir(\"/content/drive/My Drive/Colab Notebooks\")"
      ],
      "metadata": {
        "colab": {
          "base_uri": "https://localhost:8080/"
        },
        "id": "G8cop0CSfTBO",
        "outputId": "a1eb8ec4-fb50-439e-c34f-afb800ac1ec2"
      },
      "execution_count": 2,
      "outputs": [
        {
          "output_type": "stream",
          "name": "stdout",
          "text": [
            "Mounted at /content/drive\n"
          ]
        }
      ]
    },
    {
      "cell_type": "code",
      "source": [
        "import openai\n",
        "from sk_utils import read_sk\n",
        "\n",
        "openai.api_key = read_sk()\n",
        "\n",
        "openai.Model.list()"
      ],
      "metadata": {
        "id": "QokwSveafIDj"
      },
      "execution_count": null,
      "outputs": []
    },
    {
      "cell_type": "code",
      "source": [
        "import openai\n",
        "COMPLETION_MODEL = \"text-davinci-003\"\n",
        "\n",
        "prompt = \"\"\"\n",
        "Consideration product : 工厂现货PVC充气青蛙夜市地摊热卖充气玩具发光蛙儿童水上玩具\n",
        "\n",
        "1. Compose human readable product title used on Amazon in english within 20 words.\n",
        "2. Write 5 selling points for the products in Amazon.\n",
        "3. Evaluate a price range for this product in U.S.\n",
        "\n",
        "Output the result in json format with three properties called title, selling_points and price_range\n",
        "\"\"\"\n",
        "\n",
        "def get_response(prompt):\n",
        "    completions = openai.Completion.create (\n",
        "        engine=COMPLETION_MODEL,\n",
        "        prompt=prompt,\n",
        "        max_tokens=512,\n",
        "        n=1,\n",
        "        stop=None,\n",
        "        temperature=0.0,\n",
        "    )\n",
        "    message = completions.choices[0].text\n",
        "    return message\n",
        "\n",
        "print(get_response(prompt))"
      ],
      "metadata": {
        "colab": {
          "base_uri": "https://localhost:8080/"
        },
        "id": "DFoAq65yuS3I",
        "outputId": "c9abb923-8a26-4d78-ccc0-eb49047a1a81"
      },
      "execution_count": 4,
      "outputs": [
        {
          "output_type": "stream",
          "name": "stdout",
          "text": [
            "\n",
            "{\n",
            "    \"title\": \"PVC Inflatable Glow-in-the-Dark Frog Water Toy for Kids Night Market Stall Hot Sale\",\n",
            "    \"selling_points\": [\n",
            "        \"Made of durable PVC material\",\n",
            "        \"Inflatable design for easy storage and transport\",\n",
            "        \"Glow-in-the-dark feature for night time fun\",\n",
            "        \"Perfect for water play and pool parties\",\n",
            "        \"Great for kids of all ages\"\n",
            "    ],\n",
            "    \"price_range\": \"$10 - $20\"\n",
            "}\n"
          ]
        }
      ]
    },
    {
      "cell_type": "code",
      "source": [
        "import openai\n",
        "\n",
        "COMPLETION_MODEL = \"gpt-3.5-turbo\"\n",
        "#COMPLETION_MODEL = \"gpt-4\"\n",
        "\n",
        "prompt = \"\"\"\n",
        "Consideration product : 工厂现货PVC充气青蛙夜市地摊热卖充气玩具发光蛙儿童水上玩具\n",
        "\n",
        "1. Compose human readable product title used on Amazon in english within 20 words.\n",
        "2. Write 5 selling points for the products in Amazon.\n",
        "3. Evaluate a price range for this product in U.S.\n",
        "\n",
        "Output the result in json format with three properties called title, selling_points and price_range\n",
        "\"\"\"\n",
        "\n",
        "def get_response(prompt):\n",
        "    completion = openai.ChatCompletion.create(\n",
        "        model = COMPLETION_MODEL,\n",
        "        messages = [\n",
        "            {'role': 'user', 'content': prompt}\n",
        "        ],\n",
        "        temperature = 0\n",
        "    )\n",
        "    message = completion['choices'][0]['message']['content']\n",
        "    return message\n",
        "\n",
        "print(get_response(prompt))\n"
      ],
      "metadata": {
        "colab": {
          "base_uri": "https://localhost:8080/"
        },
        "id": "GmjdgFYJqVHn",
        "outputId": "ab047eb3-365b-4c18-dc29-2241524a6479"
      },
      "execution_count": 5,
      "outputs": [
        {
          "output_type": "stream",
          "name": "stdout",
          "text": [
            "{\n",
            "  \"title\": \"Factory Stock PVC Inflatable Frog Night Market Hot Selling Inflatable Toy Glowing Frog Children's Water Toy\",\n",
            "  \"selling_points\": [\n",
            "    \"High quality PVC material\",\n",
            "    \"Inflatable and easy to use\",\n",
            "    \"Glow in the dark feature\",\n",
            "    \"Perfect for water play\",\n",
            "    \"Suitable for both kids and adults\"\n",
            "  ],\n",
            "  \"price_range\": \"$10 - $20\"\n",
            "}\n"
          ]
        }
      ]
    },
    {
      "cell_type": "code",
      "source": [
        "prompt = \"\"\"\n",
        "Man Utd must win trophies, says Ten Hag ahead of League Cup final\n",
        "\n",
        "请将上面这句话的人名提取出来，并用json的方式展示出来\n",
        "\"\"\"\n",
        "\n",
        "print(get_response(prompt))"
      ],
      "metadata": {
        "id": "9uV1cdc8bISM",
        "outputId": "dd046752-1c28-4e38-ffc6-7fe65ece778e",
        "colab": {
          "base_uri": "https://localhost:8080/"
        }
      },
      "execution_count": 6,
      "outputs": [
        {
          "output_type": "stream",
          "name": "stdout",
          "text": [
            "{\n",
            "  \"name\": \"Ten Hag\"\n",
            "}\n"
          ]
        }
      ]
    },
    {
      "cell_type": "code",
      "source": [
        "!pip install readability-lxml"
      ],
      "metadata": {
        "colab": {
          "base_uri": "https://localhost:8080/"
        },
        "id": "N0Wjf0nfgxu0",
        "outputId": "223a94b8-0173-4199-c6c5-3ca7c2fd56c8"
      },
      "execution_count": 8,
      "outputs": [
        {
          "output_type": "stream",
          "name": "stdout",
          "text": [
            "Collecting readability-lxml\n",
            "  Downloading readability_lxml-0.8.1-py3-none-any.whl (20 kB)\n",
            "Requirement already satisfied: chardet in /usr/local/lib/python3.10/dist-packages (from readability-lxml) (5.2.0)\n",
            "Requirement already satisfied: lxml in /usr/local/lib/python3.10/dist-packages (from readability-lxml) (4.9.3)\n",
            "Collecting cssselect (from readability-lxml)\n",
            "  Downloading cssselect-1.2.0-py2.py3-none-any.whl (18 kB)\n",
            "Installing collected packages: cssselect, readability-lxml\n",
            "Successfully installed cssselect-1.2.0 readability-lxml-0.8.1\n"
          ]
        }
      ]
    },
    {
      "cell_type": "code",
      "source": [
        "import requests\n",
        "from readability import Document\n",
        "import openai\n",
        "\n",
        "\n",
        "def get_webpage_content(url):\n",
        "    # 发送GET请求获取网页内容\n",
        "    response = requests.get(url)\n",
        "    html = response.content\n",
        "\n",
        "    # 使用readability库提取网页正文内容\n",
        "    doc = Document(html)\n",
        "    content = doc.summary()\n",
        "\n",
        "    return content\n",
        "\n",
        "def generate_summary(text):\n",
        "    # 调用Open AI的API生成摘要\n",
        "    response = openai.Completion.create(\n",
        "        engine=\"davinci\",\n",
        "        prompt=text,\n",
        "        max_tokens=100,\n",
        "        temperature=0.7,\n",
        "        n=1,\n",
        "        stop=None\n",
        "    )\n",
        "    summary = response.choices[0].text.strip()\n",
        "\n",
        "    return summary\n",
        "\n",
        "# 输入URL\n",
        "url = \"https://zhuanlan.zhihu.com/p/611905895\"\n",
        "\n",
        "# 获取网页内容\n",
        "#content = get_webpage_content(url)\n",
        "content=\"\"\"当你走进这欢乐场\n",
        "背上所有的梦与想\n",
        "各色的脸上各色的妆\n",
        "没人记得你的模样\n",
        "\n",
        "三巡酒过你在角落\n",
        "固执的唱着苦涩的歌\n",
        "听它在喧嚣里被淹没\n",
        "你拿起酒杯对自己说\n",
        "\n",
        "一杯敬朝阳 一杯敬月光\n",
        "唤醒我的向往 温柔了寒窗\n",
        "于是可以不回头地逆风飞翔\n",
        "不怕心头有雨 眼底有霜\n",
        "\n",
        "一杯敬故乡 一杯敬远方\n",
        "守着我的善良 催着我成长\n",
        "所以南北的路从此不再漫长\n",
        "灵魂不再无处安放\n",
        "\n",
        "躁动不安的座上客\n",
        "自以为是地表演着\n",
        "伪装着 舞蹈着 疲惫着\n",
        "你拿起酒杯对自己说\n",
        "一杯敬朝阳 一杯敬月光\n",
        "唤醒我的向往 温柔了寒窗\n",
        "于是可以不回头地逆风飞翔\n",
        "不怕心头有雨 眼底有霜\n",
        "\n",
        "一杯敬故乡 一杯敬远方\n",
        "守着我的善良 催着我成长\n",
        "所以南北的路从此不再漫长\n",
        "灵魂不再无处安放\n",
        "\n",
        "一杯敬明天 一杯敬过往\n",
        "支撑我的身体 厚重了肩膀\n",
        "虽然从不相信所谓山高水长\n",
        "人生苦短何必念念不忘\n",
        "\n",
        "一杯敬自由 一杯敬死亡\n",
        "宽恕我的平凡 驱散了迷惘\n",
        "好吧天亮之后总是潦草离场\n",
        "清醒的人最荒唐\n",
        "清醒的人最荒唐\"\"\"\n",
        "\n",
        "# 生成摘要\n",
        "summary = generate_summary(content)\n",
        "\n",
        "# 打印摘要\n",
        "print(\"摘要：\", summary)"
      ],
      "metadata": {
        "colab": {
          "base_uri": "https://localhost:8080/"
        },
        "id": "WUuANas9v3Wm",
        "outputId": "540998a8-82ec-41ba-98f3-431614b85c57"
      },
      "execution_count": 9,
      "outputs": [
        {
          "output_type": "stream",
          "name": "stdout",
          "text": [
            "摘要： 一杯敬美好 一杯敬平凡\n",
            "一杯敬世界 一杯敬自由\n",
            "一杯敬朝阳 一杯敬月光\n",
            "一杯敬故乡 一杯敬远方\n",
            "\n",
            "还在继续今天的\n"
          ]
        }
      ]
    },
    {
      "cell_type": "code",
      "source": [
        "import openai\n",
        "from openai.embeddings_utils import cosine_similarity, get_embedding\n",
        "\n",
        "# 选择使用最小的ada模型\n",
        "EMBEDDING_MODEL = \"text-embedding-ada-002\"\n",
        "\n",
        "# 获取\"好评\"和\"差评\"的\n",
        "positive_review = get_embedding(\"好评\")\n",
        "negative_review = get_embedding(\"差评\")\n",
        "\n",
        "positive_example = get_embedding(\"买的银色版真的很好看，一天就到了，晚上就开始拿起来完系统很丝滑流畅，做工扎实，手感细腻，很精致哦苹果一如既往的好品质\")\n",
        "negative_example = get_embedding(\"降价厉害，保价不合理，不推荐\")\n",
        "\n",
        "def get_score(sample_embedding):\n",
        "  return cosine_similarity(sample_embedding, positive_review) - cosine_similarity(sample_embedding, negative_review)\n",
        "\n",
        "positive_score = get_score(positive_example)\n",
        "negative_score = get_score(negative_example)\n",
        "\n",
        "print(\"好评例子的评分 : %f\" % (positive_score))\n",
        "print(\"差评例子的评分 : %f\" % (negative_score))"
      ],
      "metadata": {
        "id": "9iMBB_R0TmOh"
      },
      "execution_count": null,
      "outputs": []
    },
    {
      "cell_type": "code",
      "source": [
        "good_restraurant = get_embedding(\"这家餐馆太好吃了，一点都不糟糕\")\n",
        "bad_restraurant = get_embedding(\"这家餐馆太糟糕了，一点都不好吃\")\n",
        "\n",
        "good_score = get_score(good_restraurant)\n",
        "bad_score = get_score(bad_restraurant)\n",
        "print(\"好评餐馆的评分 : %f\" % (good_score))\n",
        "print(\"差评餐馆的评分 : %f\" % (bad_score))"
      ],
      "metadata": {
        "colab": {
          "base_uri": "https://localhost:8080/"
        },
        "id": "6PizcBCIUdNI",
        "outputId": "30d04a85-58a3-4ccb-f007-c87f3cbb616d"
      },
      "execution_count": null,
      "outputs": [
        {
          "output_type": "stream",
          "name": "stdout",
          "text": [
            "好评餐馆的评分 : 0.062224\n",
            "差评餐馆的评分 : -0.073712\n"
          ]
        }
      ]
    },
    {
      "cell_type": "code",
      "source": [
        "import pandas as pd\n",
        "import numpy as np\n",
        "\n",
        "from sklearn.metrics import classification_report\n",
        "\n",
        "datafile_path = \"data/fine_food_reviews_with_embeddings_1k.csv\"\n",
        "\n",
        "df = pd.read_csv(datafile_path)\n",
        "df[\"embedding\"] = df.embedding.apply(eval).apply(np.array)\n",
        "\n",
        "# convert 5-star rating to binary sentiment\n",
        "df = df[df.Score != 3]\n",
        "df[\"sentiment\"] = df.Score.replace({1: \"negative\", 2: \"negative\", 4: \"positive\", 5: \"positive\"})\n",
        "\n",
        "from sklearn.metrics import PrecisionRecallDisplay\n",
        "\n",
        "def evaluate_embeddings_approach(\n",
        "    labels = ['negative', 'positive'],\n",
        "    model = EMBEDDING_MODEL,\n",
        "):\n",
        "    label_embeddings = [get_embedding(label, engine=model) for label in labels]\n",
        "\n",
        "    def label_score(review_embedding, label_embeddings):\n",
        "        return cosine_similarity(review_embedding, label_embeddings[1]) - cosine_similarity(review_embedding, label_embeddings[0])\n",
        "\n",
        "    probas = df[\"embedding\"].apply(lambda x: label_score(x, label_embeddings))\n",
        "    preds = probas.apply(lambda x: 'positive' if x>0 else 'negative')\n",
        "\n",
        "    report = classification_report(df.sentiment, preds)\n",
        "    print(report)\n",
        "\n",
        "    display = PrecisionRecallDisplay.from_predictions(df.sentiment, probas, pos_label='positive')\n",
        "    _ = display.ax_.set_title(\"2-class Precision-Recall curve\")\n",
        "\n",
        "evaluate_embeddings_approach(labels=['An Amazon review with a negative sentiment.', 'An Amazon review with a positive sentiment.'])"
      ],
      "metadata": {
        "colab": {
          "base_uri": "https://localhost:8080/",
          "height": 760
        },
        "id": "iNwEt8-lVP10",
        "outputId": "a851f0dc-ee28-45a1-8bba-8d141abc2412"
      },
      "execution_count": null,
      "outputs": [
        {
          "output_type": "stream",
          "name": "stderr",
          "text": [
            "<ipython-input-23-2c3ff778fd94>:13: SettingWithCopyWarning: \n",
            "A value is trying to be set on a copy of a slice from a DataFrame.\n",
            "Try using .loc[row_indexer,col_indexer] = value instead\n",
            "\n",
            "See the caveats in the documentation: https://pandas.pydata.org/pandas-docs/stable/user_guide/indexing.html#returning-a-view-versus-a-copy\n",
            "  df[\"sentiment\"] = df.Score.replace({1: \"negative\", 2: \"negative\", 4: \"positive\", 5: \"positive\"})\n"
          ]
        },
        {
          "output_type": "stream",
          "name": "stdout",
          "text": [
            "              precision    recall  f1-score   support\n",
            "\n",
            "    negative       0.98      0.73      0.84       136\n",
            "    positive       0.96      1.00      0.98       789\n",
            "\n",
            "    accuracy                           0.96       925\n",
            "   macro avg       0.97      0.86      0.91       925\n",
            "weighted avg       0.96      0.96      0.96       925\n",
            "\n"
          ]
        },
        {
          "output_type": "display_data",
          "data": {
            "text/plain": [
              "<Figure size 640x480 with 1 Axes>"
            ],
            "image/png": "[encoded data removed]"
          },
          "metadata": {}
        }
      ]
    },
    {
      "cell_type": "code",
      "source": [
        "import openai\n",
        "\n",
        "COMPLETION_MODEL = \"text-davinci-003\"\n",
        "\n",
        "prompt = '请你用朋友的语气回复给到客户，并称他为“亲”，他的订单已经发货在路上了，预计在3天之内会送达，订单号2021AEDG，我们很抱歉因为天气的原因物流时间比原来长，感谢他选购我们的商品。'\n",
        "\n",
        "def get_response(prompt, temperature = 1.0, stop = None):\n",
        "    completions = openai.Completion.create (\n",
        "        engine=COMPLETION_MODEL,\n",
        "        prompt=prompt,\n",
        "        max_tokens=1024,\n",
        "        n=1,\n",
        "        stop=stop,\n",
        "        temperature=temperature,\n",
        "    )\n",
        "    message = completions.choices[0].text\n",
        "    return message\n",
        "\n",
        "print(get_response(prompt))"
      ],
      "metadata": {
        "colab": {
          "base_uri": "https://localhost:8080/"
        },
        "id": "Xbl70B1ubCux",
        "outputId": "388f5a2b-9c8e-4fcd-bef2-2083d44589e4"
      },
      "execution_count": null,
      "outputs": [
        {
          "output_type": "stream",
          "name": "stdout",
          "text": [
            "\n",
            "\n",
            "亲，您的订单（2021AEDG）已经发出了，预计3天之内就能送达，我们非常抱歉因为天气原因物流受到影响，但我们会确保最快时间快递给您，感谢您选购我们的商品，如有其他问题，请随时联系我们。\n"
          ]
        }
      ]
    },
    {
      "cell_type": "code",
      "source": [
        "print(get_response(prompt))"
      ],
      "metadata": {
        "colab": {
          "base_uri": "https://localhost:8080/"
        },
        "id": "z2zEzui8bhPi",
        "outputId": "11b0f9d8-574b-4126-dfec-a2d8439b9052"
      },
      "execution_count": null,
      "outputs": [
        {
          "output_type": "stream",
          "name": "stdout",
          "text": [
            "\n",
            "\n",
            "亲，您的订单2021AEDG已经发货，预计会在3天内送达。由于天气造成的物流延误，我们深表歉意，期待早日您收到商品之后的愉快体验。谢谢您选购我们的商品，我们将竭诚为您服务。\n"
          ]
        }
      ]
    },
    {
      "cell_type": "code",
      "source": [
        "print(get_response(prompt, 0.0))\n",
        "print(get_response(prompt, 0.0))"
      ],
      "metadata": {
        "colab": {
          "base_uri": "https://localhost:8080/"
        },
        "id": "0hIB0wz6b5md",
        "outputId": "b03081d9-c200-4afd-8787-ab25de83f3e3"
      },
      "execution_count": null,
      "outputs": [
        {
          "output_type": "stream",
          "name": "stdout",
          "text": [
            "\n",
            "\n",
            "亲，您的订单2021AEDG已经发货，预计在3天之内会送达，由于天气原因，物流时间比原来长，我们深表歉意。感谢您选购我们的商品，祝您购物愉快！\n",
            "\n",
            "\n",
            "亲，您的订单2021AEDG已经发货，预计在3天之内会送达。很抱歉因为天气的原因物流时间比原来长，感谢您选购我们的商品，祝您购物愉快！\n"
          ]
        }
      ]
    },
    {
      "cell_type": "code",
      "source": [
        "print(get_response(prompt, 1.5))\n",
        "print(get_response(prompt, 1.5))"
      ],
      "metadata": {
        "colab": {
          "base_uri": "https://localhost:8080/"
        },
        "id": "-VM2zewwcAin",
        "outputId": "8216abab-cc6b-4141-81c0-b9c96cbd7df6"
      },
      "execution_count": null,
      "outputs": [
        {
          "output_type": "stream",
          "name": "stdout",
          "text": [
            "\n",
            "\n",
            "\n",
            "\n",
            "亲爱的客户，收到您的信息已 ego years,][usOTHder## 20301傻鹿OptionaldalictXhausEEE,m X三 annexattack 已成功发出セ crefyし rak期，我macaerintonREE到\n",
            "\n",
            "\n",
            "亲 !　您的订单(\\boldsymbol2021\\; \\mathand \\; AEDG )已于今天置甩发货甩，预计三天 Lafyles\n"
          ]
        }
      ]
    },
    {
      "cell_type": "code",
      "source": [
        "print(get_response(prompt, 0.0, \"，\"))"
      ],
      "metadata": {
        "colab": {
          "base_uri": "https://localhost:8080/"
        },
        "id": "IONsMDFCcyFC",
        "outputId": "f71d8002-9a58-41d6-effd-66c28f89177b"
      },
      "execution_count": null,
      "outputs": [
        {
          "output_type": "stream",
          "name": "stdout",
          "text": [
            "\n",
            "\n",
            "亲\n"
          ]
        }
      ]
    },
    {
      "cell_type": "code",
      "source": [
        "question =  \"\"\"\n",
        "Q : 鱼香肉丝怎么做？\n",
        "A :\n",
        "\"\"\"\n",
        "print(get_response(question))"
      ],
      "metadata": {
        "colab": {
          "base_uri": "https://localhost:8080/"
        },
        "id": "fNhm-G1BdPte",
        "outputId": "a7c1529b-4ec8-41b6-b6f8-6e4eef725ed1"
      },
      "execution_count": null,
      "outputs": [
        {
          "output_type": "stream",
          "name": "stdout",
          "text": [
            "1. 肉丝香料：肉丝2斤，生抽1勺，老抽1勺，料酒1勺，白糖1勺，胡椒粉适量，盐适量。\n",
            "2. 鱼香调料：洋葱1/2个，蒜头2瓣，葱花少许，花椒油2勺，热油1勺，酱油2勺，醋2勺，料酒2勺，糖1勺，蚝油1勺，白胡椒粉少许。\n",
            "3. 把肉丝卤好，起锅时加入肉丝香料，炒匀，待肉丝变色。\n",
            "4. 将鱼香调料加入，继续翻炒，直至肉丝出汁，即可。\n"
          ]
        }
      ]
    },
    {
      "cell_type": "code",
      "source": [
        "question =  \"\"\"\n",
        "Q : 鱼香肉丝怎么做？\n",
        "A :\n",
        "1. 肉丝香料：肉丝2斤，生抽1勺，老抽1勺，料酒1勺，白糖1勺，胡椒粉适量，盐适量。\n",
        "2. 鱼香调料：洋葱1/2个，蒜头2瓣，葱花少许，花椒油2勺，热油1勺，酱油2勺，醋2勺，料酒2勺，糖1勺，蚝油1勺，白胡椒粉少许。\n",
        "3. 把肉丝卤好，起锅时加入肉丝香料，炒匀，待肉丝变色。\n",
        "4. 将鱼香调料加入，继续翻炒，直至肉丝出汁，即可。\n",
        "\n",
        "Q : 那蚝油牛肉呢？\n",
        "A :\n",
        "\"\"\"\n",
        "print(get_response(question))"
      ],
      "metadata": {
        "colab": {
          "base_uri": "https://localhost:8080/"
        },
        "id": "Lv2jTzTsdeSj",
        "outputId": "1bfac346-a51f-4358-8f91-43150179ae8e"
      },
      "execution_count": null,
      "outputs": [
        {
          "output_type": "stream",
          "name": "stdout",
          "text": [
            "1. 牛肉酱料：牛肉350克，料酒2勺，蚝油1勺，淀粉1勺，盐1/2勺，胡椒粉少许。\n",
            "2. 调料：洋葱1/3个，葱花少许，蒜末1勺，料酒2勺，蚝油1勺，醋1勺，热油2勺，白糖1勺。\n",
            "3. 将牛肉切块，拌入牛肉酱料中，腌制10分钟。\n",
            "4. 锅中倒油，加入洋葱，爆香，加入牛肉，翻炒至变色，加入剩余调料，翻炒，烧至油起锅即可。\n"
          ]
        }
      ]
    },
    {
      "cell_type": "code",
      "source": [
        "import openai\n",
        "\n",
        "def ask_gpt3(prompt):\n",
        "    response = openai.Completion.create(\n",
        "        engine=\"text-davinci-003\",\n",
        "        prompt=prompt,\n",
        "        max_tokens=512,\n",
        "        n=1,\n",
        "        stop=None,\n",
        "        temperature=0.5,\n",
        "    )\n",
        "\n",
        "    message = response.choices[0].text.strip()\n",
        "    return message\n",
        "\n",
        "print(\"你好，我是一个聊天机器人，请你提出你的问题吧?\")\n",
        "\n",
        "questions = []\n",
        "answers = []\n",
        "\n",
        "def generate_prompt(prompt, questions, answers):\n",
        "    num = len(answers)\n",
        "    for i in range(num):\n",
        "        prompt += \"\\n Q : \" + questions[i]\n",
        "        prompt += \"\\n A : \" + answers[i]\n",
        "    prompt += \"\\n Q : \" + questions[num] + \"\\n A : \"\n",
        "    return prompt\n",
        "\n",
        "while True:\n",
        "    user_input = input(\"> \")\n",
        "    questions.append(user_input)\n",
        "    if user_input.lower() in [\"bye\", \"goodbye\", \"exit\"]:\n",
        "        print(\"Goodbye!\")\n",
        "        break\n",
        "\n",
        "    prompt = generate_prompt(\"\", questions, answers)\n",
        "\n",
        "    answer = ask_gpt3(prompt)\n",
        "    print(answer)\n",
        "    answers.append(answer)"
      ],
      "metadata": {
        "colab": {
          "base_uri": "https://localhost:8080/"
        },
        "id": "2zri-QuHeGrH",
        "outputId": "f74970c9-4754-46f7-ff7e-911bb0647814"
      },
      "execution_count": null,
      "outputs": [
        {
          "output_type": "stream",
          "name": "stdout",
          "text": [
            "你好，我是一个聊天机器人，请你提出你的问题吧?\n",
            "> 你知道长安三万里这部电影吗？\n",
            "是的，长安三万里是由导演陈凯歌执导的一部古装史诗电影，讲述了古代汉朝时期，汉武帝刘彻的传奇故事。\n",
            "> 你知道李白吗？\n",
            "是的，李白是中国古代著名诗人，被誉为“诗仙”，他的诗歌被誉为“百代佳句”，被誉为“千古绝唱”，其中包括《静夜思》、《望庐山瀑布》等经典作品。\n",
            "> 那你跟我说说静夜思这首诗\n",
            "《静夜思》是李白的经典诗作，全诗共八句，写的是夜深人静时，一个人思念家乡的情怀，表达出对爱人的思念之情，全诗如下：\n",
            "\n",
            "床前明月光，\n",
            "疑是地上霜。\n",
            "举头望明月，\n",
            "低头思故乡。\n",
            "> b ye\n",
            "不客气，再见！\n",
            "> bye\n",
            "Goodbye!\n"
          ]
        }
      ]
    },
    {
      "cell_type": "code",
      "source": [
        "prompts = \"\"\"判断一下用户的评论情感上是正面的还是负面的\n",
        "评论：买的银色版真的很好看，一天就到了，晚上就开始拿起来完系统很丝滑流畅，做工扎实，手感细腻，很精致哦苹果一如既往的好品质\n",
        "情感：正面\n",
        "\n",
        "评论：随意降价，不予价保，服务态度差\n",
        "情感：负面\n",
        "\"\"\"\n",
        "\n",
        "good_case = prompts + \"\"\"\n",
        "评论：外形外观：苹果审美一直很好，金色非常漂亮\n",
        "拍照效果：14pro升级的4800万像素真的是没的说，太好了，\n",
        "运行速度：苹果的反应速度好，用上三五年也不会卡顿的，之前的7P用到现在也不卡\n",
        "其他特色：14pro的磨砂金真的太好看了，不太高调，也不至于没有特点，非常耐看，很好的\n",
        "情感：\n",
        "\"\"\"\n",
        "\n",
        "print(get_response(good_case))"
      ],
      "metadata": {
        "colab": {
          "base_uri": "https://localhost:8080/"
        },
        "id": "vO1yZcNcfCXE",
        "outputId": "d6471563-69a1-41de-f701-7f0d4bfd70ea"
      },
      "execution_count": null,
      "outputs": [
        {
          "output_type": "stream",
          "name": "stdout",
          "text": [
            "正面\n"
          ]
        }
      ]
    },
    {
      "cell_type": "code",
      "source": [
        "bad_case = prompts + \"\"\"\n",
        "评论：信号不好电池也不耐电不推荐购买\n",
        "情感\n",
        "\"\"\"\n",
        "\n",
        "print(get_response(bad_case))"
      ],
      "metadata": {
        "colab": {
          "base_uri": "https://localhost:8080/"
        },
        "id": "LnextTCAfHz-",
        "outputId": "f810c55d-1f3d-4394-eacc-43d464a9eff7"
      },
      "execution_count": null,
      "outputs": [
        {
          "output_type": "stream",
          "name": "stdout",
          "text": [
            "负面\n"
          ]
        }
      ]
    }
  ]
}